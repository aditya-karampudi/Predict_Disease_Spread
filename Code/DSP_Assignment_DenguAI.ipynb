{
 "cells": [
  {
   "cell_type": "markdown",
   "metadata": {},
   "source": [
    "# Assignment 1"
   ]
  },
  {
   "cell_type": "markdown",
   "metadata": {},
   "source": [
    "### <font color='green'>1. Load the file 'dengue_features_train.csv', display the top 3 rows and observe the data. Then programmatically define the column names to make the following changes. </font>\n",
    "\n"
   ]
  },
  {
   "cell_type": "code",
   "execution_count": 3,
   "metadata": {},
   "outputs": [
    {
     "data": {
      "text/html": [
       "<div>\n",
       "<style scoped>\n",
       "    .dataframe tbody tr th:only-of-type {\n",
       "        vertical-align: middle;\n",
       "    }\n",
       "\n",
       "    .dataframe tbody tr th {\n",
       "        vertical-align: top;\n",
       "    }\n",
       "\n",
       "    .dataframe thead th {\n",
       "        text-align: right;\n",
       "    }\n",
       "</style>\n",
       "<table border=\"1\" class=\"dataframe\">\n",
       "  <thead>\n",
       "    <tr style=\"text-align: right;\">\n",
       "      <th></th>\n",
       "      <th>city</th>\n",
       "      <th>year</th>\n",
       "      <th>weekofyear</th>\n",
       "      <th>week_start_date</th>\n",
       "      <th>ndvi_ne</th>\n",
       "      <th>ndvi_nw</th>\n",
       "      <th>ndvi_se</th>\n",
       "      <th>ndvi_sw</th>\n",
       "      <th>precipitation_amt_mm</th>\n",
       "      <th>reanalysis_air_temp_k</th>\n",
       "      <th>...</th>\n",
       "      <th>reanalysis_precip_amt_kg_per_m2</th>\n",
       "      <th>reanalysis_relative_humidity_percent</th>\n",
       "      <th>reanalysis_sat_precip_amt_mm</th>\n",
       "      <th>reanalysis_specific_humidity_g_per_kg</th>\n",
       "      <th>reanalysis_tdtr_k</th>\n",
       "      <th>station_avg_temp_c</th>\n",
       "      <th>station_diur_temp_rng_c</th>\n",
       "      <th>station_max_temp_c</th>\n",
       "      <th>station_min_temp_c</th>\n",
       "      <th>station_precip_mm</th>\n",
       "    </tr>\n",
       "  </thead>\n",
       "  <tbody>\n",
       "    <tr>\n",
       "      <th>0</th>\n",
       "      <td>sj</td>\n",
       "      <td>1990</td>\n",
       "      <td>18</td>\n",
       "      <td>1990-04-30</td>\n",
       "      <td>0.12260</td>\n",
       "      <td>0.103725</td>\n",
       "      <td>0.198483</td>\n",
       "      <td>0.177617</td>\n",
       "      <td>12.42</td>\n",
       "      <td>297.572857</td>\n",
       "      <td>...</td>\n",
       "      <td>32.00</td>\n",
       "      <td>73.365714</td>\n",
       "      <td>12.42</td>\n",
       "      <td>14.012857</td>\n",
       "      <td>2.628571</td>\n",
       "      <td>25.442857</td>\n",
       "      <td>6.900000</td>\n",
       "      <td>29.4</td>\n",
       "      <td>20.0</td>\n",
       "      <td>16.0</td>\n",
       "    </tr>\n",
       "    <tr>\n",
       "      <th>1</th>\n",
       "      <td>sj</td>\n",
       "      <td>1990</td>\n",
       "      <td>19</td>\n",
       "      <td>1990-05-07</td>\n",
       "      <td>0.16990</td>\n",
       "      <td>0.142175</td>\n",
       "      <td>0.162357</td>\n",
       "      <td>0.155486</td>\n",
       "      <td>22.82</td>\n",
       "      <td>298.211429</td>\n",
       "      <td>...</td>\n",
       "      <td>17.94</td>\n",
       "      <td>77.368571</td>\n",
       "      <td>22.82</td>\n",
       "      <td>15.372857</td>\n",
       "      <td>2.371429</td>\n",
       "      <td>26.714286</td>\n",
       "      <td>6.371429</td>\n",
       "      <td>31.7</td>\n",
       "      <td>22.2</td>\n",
       "      <td>8.6</td>\n",
       "    </tr>\n",
       "    <tr>\n",
       "      <th>2</th>\n",
       "      <td>sj</td>\n",
       "      <td>1990</td>\n",
       "      <td>20</td>\n",
       "      <td>1990-05-14</td>\n",
       "      <td>0.03225</td>\n",
       "      <td>0.172967</td>\n",
       "      <td>0.157200</td>\n",
       "      <td>0.170843</td>\n",
       "      <td>34.54</td>\n",
       "      <td>298.781429</td>\n",
       "      <td>...</td>\n",
       "      <td>26.10</td>\n",
       "      <td>82.052857</td>\n",
       "      <td>34.54</td>\n",
       "      <td>16.848571</td>\n",
       "      <td>2.300000</td>\n",
       "      <td>26.714286</td>\n",
       "      <td>6.485714</td>\n",
       "      <td>32.2</td>\n",
       "      <td>22.8</td>\n",
       "      <td>41.4</td>\n",
       "    </tr>\n",
       "  </tbody>\n",
       "</table>\n",
       "<p>3 rows × 24 columns</p>\n",
       "</div>"
      ],
      "text/plain": [
       "  city  year  weekofyear week_start_date  ndvi_ne   ndvi_nw   ndvi_se  \\\n",
       "0   sj  1990          18      1990-04-30  0.12260  0.103725  0.198483   \n",
       "1   sj  1990          19      1990-05-07  0.16990  0.142175  0.162357   \n",
       "2   sj  1990          20      1990-05-14  0.03225  0.172967  0.157200   \n",
       "\n",
       "    ndvi_sw  precipitation_amt_mm  reanalysis_air_temp_k  ...  \\\n",
       "0  0.177617                 12.42             297.572857  ...   \n",
       "1  0.155486                 22.82             298.211429  ...   \n",
       "2  0.170843                 34.54             298.781429  ...   \n",
       "\n",
       "   reanalysis_precip_amt_kg_per_m2  reanalysis_relative_humidity_percent  \\\n",
       "0                            32.00                             73.365714   \n",
       "1                            17.94                             77.368571   \n",
       "2                            26.10                             82.052857   \n",
       "\n",
       "   reanalysis_sat_precip_amt_mm  reanalysis_specific_humidity_g_per_kg  \\\n",
       "0                         12.42                              14.012857   \n",
       "1                         22.82                              15.372857   \n",
       "2                         34.54                              16.848571   \n",
       "\n",
       "   reanalysis_tdtr_k  station_avg_temp_c  station_diur_temp_rng_c  \\\n",
       "0           2.628571           25.442857                 6.900000   \n",
       "1           2.371429           26.714286                 6.371429   \n",
       "2           2.300000           26.714286                 6.485714   \n",
       "\n",
       "   station_max_temp_c  station_min_temp_c  station_precip_mm  \n",
       "0                29.4                20.0               16.0  \n",
       "1                31.7                22.2                8.6  \n",
       "2                32.2                22.8               41.4  \n",
       "\n",
       "[3 rows x 24 columns]"
      ]
     },
     "execution_count": 3,
     "metadata": {},
     "output_type": "execute_result"
    }
   ],
   "source": [
    "from sklearn.linear_model import SGDClassifier\n",
    "from sklearn.linear_model import LinearRegression\n",
    "from cf_matrix import make_confusion_matrix\n",
    "from sklearn.metrics import accuracy_score\n",
    "from sklearn.metrics import classification_report\n",
    "from sklearn.neural_network import MLPClassifier\n",
    "from sklearn.metrics import confusion_matrix\n",
    "# Loading required libraries\n",
    "from sklearn.model_selection import train_test_split\n",
    "from sklearn.preprocessing import StandardScaler\n",
    "from sklearn.metrics import mean_squared_error\n",
    "from sklearn.svm import SVR\n",
    "from sklearn.svm import LinearSVR\n",
    "from math import sqrt\n",
    "import pandas as pd\n",
    "import numpy as np\n",
    "from matplotlib.pyplot import figure\n",
    "import matplotlib.pyplot as plt\n",
    "import seaborn as sns\n",
    "%matplotlib inline\n",
    "import warnings\n",
    "warnings.filterwarnings('ignore')\n",
    "data = pd.read_csv(\"dengue_features_train.csv\")\n",
    "data.head(3)"
   ]
  },
  {
   "cell_type": "markdown",
   "metadata": {},
   "source": [
    "###### a). rename columns which have 'station' such that 'station' is abbreviated to 'stn' and rest of column name remains intact. For example column name 'station_diur_temp_rng_c' is renamed to 'station_diur_tmp_rng_c'"
   ]
  },
  {
   "cell_type": "code",
   "execution_count": 4,
   "metadata": {},
   "outputs": [],
   "source": [
    "data.columns = ['city', 'year', 'weekofyear', 'week_start_date', 'ndvi_ne', 'ndvi_nw',\n",
    "       'ndvi_se', 'ndvi_sw', 'precipitation_amt_mm', 'reanalysis_air_temp_k',\n",
    "       'reanalysis_avg_temp_k', 'reanalysis_dew_point_temp_k',\n",
    "       'reanalysis_max_air_temp_k', 'reanalysis_min_air_temp_k',\n",
    "       'reanalysis_precip_amt_kg_per_m2',\n",
    "       'reanalysis_relative_humidity_percent', 'reanalysis_sat_precip_amt_mm',\n",
    "       'reanalysis_specific_humidity_g_per_kg', 'reanalysis_tdtr_k',\n",
    "       'stn_avg_temp_c', 'stn_diur_temp_rng_c', 'stn_max_temp_c',\n",
    "       'stn_min_temp_c', 'stn_precip_mm']"
   ]
  },
  {
   "cell_type": "markdown",
   "metadata": {},
   "source": [
    "###### b). similarly rename columns which have 'reanalysis' to abbreviate 're_an', retaining rest of column name same"
   ]
  },
  {
   "cell_type": "code",
   "execution_count": 5,
   "metadata": {},
   "outputs": [],
   "source": [
    "data.columns = data.columns.str.replace(r\"reanalysis\", \"re_an\")"
   ]
  },
  {
   "cell_type": "markdown",
   "metadata": {},
   "source": [
    "###### c). rename columns which have 'humidity' to abbreviate to 'hd', retaining rest of column name same"
   ]
  },
  {
   "cell_type": "code",
   "execution_count": 6,
   "metadata": {},
   "outputs": [],
   "source": [
    "data.columns = data.columns.str.replace(r\"humidity\", \"hd\")"
   ]
  },
  {
   "cell_type": "markdown",
   "metadata": {},
   "source": [
    "###### d). abbreviate 'precipitation' part of column name to 'prec', retaining rest of column name same"
   ]
  },
  {
   "cell_type": "code",
   "execution_count": 7,
   "metadata": {},
   "outputs": [],
   "source": [
    "data.columns = data.columns.str.replace(r\"precipitation\",\"prec\")"
   ]
  },
  {
   "cell_type": "markdown",
   "metadata": {},
   "source": [
    "###### e). view top 3 rows and recheck if column name changes have taken effect"
   ]
  },
  {
   "cell_type": "code",
   "execution_count": 8,
   "metadata": {},
   "outputs": [
    {
     "data": {
      "text/html": [
       "<div>\n",
       "<style scoped>\n",
       "    .dataframe tbody tr th:only-of-type {\n",
       "        vertical-align: middle;\n",
       "    }\n",
       "\n",
       "    .dataframe tbody tr th {\n",
       "        vertical-align: top;\n",
       "    }\n",
       "\n",
       "    .dataframe thead th {\n",
       "        text-align: right;\n",
       "    }\n",
       "</style>\n",
       "<table border=\"1\" class=\"dataframe\">\n",
       "  <thead>\n",
       "    <tr style=\"text-align: right;\">\n",
       "      <th></th>\n",
       "      <th>city</th>\n",
       "      <th>year</th>\n",
       "      <th>weekofyear</th>\n",
       "      <th>week_start_date</th>\n",
       "      <th>ndvi_ne</th>\n",
       "      <th>ndvi_nw</th>\n",
       "      <th>ndvi_se</th>\n",
       "      <th>ndvi_sw</th>\n",
       "      <th>prec_amt_mm</th>\n",
       "      <th>re_an_air_temp_k</th>\n",
       "      <th>...</th>\n",
       "      <th>re_an_precip_amt_kg_per_m2</th>\n",
       "      <th>re_an_relative_hd_percent</th>\n",
       "      <th>re_an_sat_precip_amt_mm</th>\n",
       "      <th>re_an_specific_hd_g_per_kg</th>\n",
       "      <th>re_an_tdtr_k</th>\n",
       "      <th>stn_avg_temp_c</th>\n",
       "      <th>stn_diur_temp_rng_c</th>\n",
       "      <th>stn_max_temp_c</th>\n",
       "      <th>stn_min_temp_c</th>\n",
       "      <th>stn_precip_mm</th>\n",
       "    </tr>\n",
       "  </thead>\n",
       "  <tbody>\n",
       "    <tr>\n",
       "      <th>0</th>\n",
       "      <td>sj</td>\n",
       "      <td>1990</td>\n",
       "      <td>18</td>\n",
       "      <td>1990-04-30</td>\n",
       "      <td>0.12260</td>\n",
       "      <td>0.103725</td>\n",
       "      <td>0.198483</td>\n",
       "      <td>0.177617</td>\n",
       "      <td>12.42</td>\n",
       "      <td>297.572857</td>\n",
       "      <td>...</td>\n",
       "      <td>32.00</td>\n",
       "      <td>73.365714</td>\n",
       "      <td>12.42</td>\n",
       "      <td>14.012857</td>\n",
       "      <td>2.628571</td>\n",
       "      <td>25.442857</td>\n",
       "      <td>6.900000</td>\n",
       "      <td>29.4</td>\n",
       "      <td>20.0</td>\n",
       "      <td>16.0</td>\n",
       "    </tr>\n",
       "    <tr>\n",
       "      <th>1</th>\n",
       "      <td>sj</td>\n",
       "      <td>1990</td>\n",
       "      <td>19</td>\n",
       "      <td>1990-05-07</td>\n",
       "      <td>0.16990</td>\n",
       "      <td>0.142175</td>\n",
       "      <td>0.162357</td>\n",
       "      <td>0.155486</td>\n",
       "      <td>22.82</td>\n",
       "      <td>298.211429</td>\n",
       "      <td>...</td>\n",
       "      <td>17.94</td>\n",
       "      <td>77.368571</td>\n",
       "      <td>22.82</td>\n",
       "      <td>15.372857</td>\n",
       "      <td>2.371429</td>\n",
       "      <td>26.714286</td>\n",
       "      <td>6.371429</td>\n",
       "      <td>31.7</td>\n",
       "      <td>22.2</td>\n",
       "      <td>8.6</td>\n",
       "    </tr>\n",
       "    <tr>\n",
       "      <th>2</th>\n",
       "      <td>sj</td>\n",
       "      <td>1990</td>\n",
       "      <td>20</td>\n",
       "      <td>1990-05-14</td>\n",
       "      <td>0.03225</td>\n",
       "      <td>0.172967</td>\n",
       "      <td>0.157200</td>\n",
       "      <td>0.170843</td>\n",
       "      <td>34.54</td>\n",
       "      <td>298.781429</td>\n",
       "      <td>...</td>\n",
       "      <td>26.10</td>\n",
       "      <td>82.052857</td>\n",
       "      <td>34.54</td>\n",
       "      <td>16.848571</td>\n",
       "      <td>2.300000</td>\n",
       "      <td>26.714286</td>\n",
       "      <td>6.485714</td>\n",
       "      <td>32.2</td>\n",
       "      <td>22.8</td>\n",
       "      <td>41.4</td>\n",
       "    </tr>\n",
       "  </tbody>\n",
       "</table>\n",
       "<p>3 rows × 24 columns</p>\n",
       "</div>"
      ],
      "text/plain": [
       "  city  year  weekofyear week_start_date  ndvi_ne   ndvi_nw   ndvi_se  \\\n",
       "0   sj  1990          18      1990-04-30  0.12260  0.103725  0.198483   \n",
       "1   sj  1990          19      1990-05-07  0.16990  0.142175  0.162357   \n",
       "2   sj  1990          20      1990-05-14  0.03225  0.172967  0.157200   \n",
       "\n",
       "    ndvi_sw  prec_amt_mm  re_an_air_temp_k  ...  re_an_precip_amt_kg_per_m2  \\\n",
       "0  0.177617        12.42        297.572857  ...                       32.00   \n",
       "1  0.155486        22.82        298.211429  ...                       17.94   \n",
       "2  0.170843        34.54        298.781429  ...                       26.10   \n",
       "\n",
       "   re_an_relative_hd_percent  re_an_sat_precip_amt_mm  \\\n",
       "0                  73.365714                    12.42   \n",
       "1                  77.368571                    22.82   \n",
       "2                  82.052857                    34.54   \n",
       "\n",
       "   re_an_specific_hd_g_per_kg  re_an_tdtr_k  stn_avg_temp_c  \\\n",
       "0                   14.012857      2.628571       25.442857   \n",
       "1                   15.372857      2.371429       26.714286   \n",
       "2                   16.848571      2.300000       26.714286   \n",
       "\n",
       "   stn_diur_temp_rng_c  stn_max_temp_c  stn_min_temp_c  stn_precip_mm  \n",
       "0             6.900000            29.4            20.0           16.0  \n",
       "1             6.371429            31.7            22.2            8.6  \n",
       "2             6.485714            32.2            22.8           41.4  \n",
       "\n",
       "[3 rows x 24 columns]"
      ]
     },
     "execution_count": 8,
     "metadata": {},
     "output_type": "execute_result"
    }
   ],
   "source": [
    "data.head(3)"
   ]
  },
  {
   "cell_type": "markdown",
   "metadata": {},
   "source": [
    "###### f). check the type of columns in dataframe"
   ]
  },
  {
   "cell_type": "code",
   "execution_count": 9,
   "metadata": {},
   "outputs": [
    {
     "data": {
      "text/plain": [
       "city                           object\n",
       "year                            int64\n",
       "weekofyear                      int64\n",
       "week_start_date                object\n",
       "ndvi_ne                       float64\n",
       "ndvi_nw                       float64\n",
       "ndvi_se                       float64\n",
       "ndvi_sw                       float64\n",
       "prec_amt_mm                   float64\n",
       "re_an_air_temp_k              float64\n",
       "re_an_avg_temp_k              float64\n",
       "re_an_dew_point_temp_k        float64\n",
       "re_an_max_air_temp_k          float64\n",
       "re_an_min_air_temp_k          float64\n",
       "re_an_precip_amt_kg_per_m2    float64\n",
       "re_an_relative_hd_percent     float64\n",
       "re_an_sat_precip_amt_mm       float64\n",
       "re_an_specific_hd_g_per_kg    float64\n",
       "re_an_tdtr_k                  float64\n",
       "stn_avg_temp_c                float64\n",
       "stn_diur_temp_rng_c           float64\n",
       "stn_max_temp_c                float64\n",
       "stn_min_temp_c                float64\n",
       "stn_precip_mm                 float64\n",
       "dtype: object"
      ]
     },
     "execution_count": 9,
     "metadata": {},
     "output_type": "execute_result"
    }
   ],
   "source": [
    "data.dtypes"
   ]
  },
  {
   "cell_type": "markdown",
   "metadata": {},
   "source": [
    "###### g). Change the column 'year' as categorical variable and check if the column data type is changed and the levels of category are correct. As an example, 'city' is converted into categorical below with two categories (of cities)."
   ]
  },
  {
   "cell_type": "code",
   "execution_count": 10,
   "metadata": {},
   "outputs": [
    {
     "data": {
      "text/plain": [
       "CategoricalDtype(categories=['iq', 'sj'], ordered=False)"
      ]
     },
     "execution_count": 10,
     "metadata": {},
     "output_type": "execute_result"
    }
   ],
   "source": [
    "data.city = data.city.astype('category')\n",
    "data.city.dtypes"
   ]
  },
  {
   "cell_type": "markdown",
   "metadata": {},
   "source": [
    "## <font color='green'>2. The predictor column (y-value) is present in the file 'dengue_labels_train.csv'. Read this file in a new dataframe and merge it with the above dataframe using city, year and weekofyear as join conditions. </font>\n",
    "\n",
    "###### Count NANs in merged dataframe and use forward fill method to fill NANs (df_merged.fillna(method='ffill'))"
   ]
  },
  {
   "cell_type": "code",
   "execution_count": 11,
   "metadata": {},
   "outputs": [],
   "source": [
    "y_train = pd.read_csv(\"dengue_labels_train.csv\")"
   ]
  },
  {
   "cell_type": "code",
   "execution_count": 12,
   "metadata": {},
   "outputs": [
    {
     "name": "stdout",
     "output_type": "stream",
     "text": [
      "city                            0\n",
      "year                            0\n",
      "weekofyear                      0\n",
      "week_start_date                 0\n",
      "ndvi_ne                       194\n",
      "ndvi_nw                        52\n",
      "ndvi_se                        22\n",
      "ndvi_sw                        22\n",
      "prec_amt_mm                    13\n",
      "re_an_air_temp_k               10\n",
      "re_an_avg_temp_k               10\n",
      "re_an_dew_point_temp_k         10\n",
      "re_an_max_air_temp_k           10\n",
      "re_an_min_air_temp_k           10\n",
      "re_an_precip_amt_kg_per_m2     10\n",
      "re_an_relative_hd_percent      10\n",
      "re_an_sat_precip_amt_mm        13\n",
      "re_an_specific_hd_g_per_kg     10\n",
      "re_an_tdtr_k                   10\n",
      "stn_avg_temp_c                 43\n",
      "stn_diur_temp_rng_c            43\n",
      "stn_max_temp_c                 20\n",
      "stn_min_temp_c                 14\n",
      "stn_precip_mm                  22\n",
      "total_cases                     0\n",
      "dtype: int64\n"
     ]
    }
   ],
   "source": [
    "new_df = pd.merge(data, y_train,  how='left', left_on=['city','year','weekofyear'],right_on=['city','year','weekofyear'])\n",
    "print(new_df.isna().sum())"
   ]
  },
  {
   "cell_type": "code",
   "execution_count": 13,
   "metadata": {},
   "outputs": [
    {
     "data": {
      "text/plain": [
       "(1456, 25)"
      ]
     },
     "execution_count": 13,
     "metadata": {},
     "output_type": "execute_result"
    }
   ],
   "source": [
    "new_df = new_df.fillna(method='ffill')\n",
    "new_df.shape"
   ]
  },
  {
   "cell_type": "code",
   "execution_count": 14,
   "metadata": {},
   "outputs": [],
   "source": [
    "new_df.to_csv(\"assignment_2_file.csv\", index=False)"
   ]
  },
  {
   "cell_type": "markdown",
   "metadata": {},
   "source": [
    "###### a). Do a random check by printing few values from both files and merged file"
   ]
  },
  {
   "cell_type": "code",
   "execution_count": 15,
   "metadata": {},
   "outputs": [
    {
     "data": {
      "text/html": [
       "<div>\n",
       "<style scoped>\n",
       "    .dataframe tbody tr th:only-of-type {\n",
       "        vertical-align: middle;\n",
       "    }\n",
       "\n",
       "    .dataframe tbody tr th {\n",
       "        vertical-align: top;\n",
       "    }\n",
       "\n",
       "    .dataframe thead th {\n",
       "        text-align: right;\n",
       "    }\n",
       "</style>\n",
       "<table border=\"1\" class=\"dataframe\">\n",
       "  <thead>\n",
       "    <tr style=\"text-align: right;\">\n",
       "      <th></th>\n",
       "      <th>city</th>\n",
       "      <th>year</th>\n",
       "      <th>weekofyear</th>\n",
       "      <th>week_start_date</th>\n",
       "      <th>ndvi_ne</th>\n",
       "      <th>ndvi_nw</th>\n",
       "      <th>ndvi_se</th>\n",
       "      <th>ndvi_sw</th>\n",
       "      <th>prec_amt_mm</th>\n",
       "      <th>re_an_air_temp_k</th>\n",
       "      <th>...</th>\n",
       "      <th>re_an_precip_amt_kg_per_m2</th>\n",
       "      <th>re_an_relative_hd_percent</th>\n",
       "      <th>re_an_sat_precip_amt_mm</th>\n",
       "      <th>re_an_specific_hd_g_per_kg</th>\n",
       "      <th>re_an_tdtr_k</th>\n",
       "      <th>stn_avg_temp_c</th>\n",
       "      <th>stn_diur_temp_rng_c</th>\n",
       "      <th>stn_max_temp_c</th>\n",
       "      <th>stn_min_temp_c</th>\n",
       "      <th>stn_precip_mm</th>\n",
       "    </tr>\n",
       "  </thead>\n",
       "  <tbody>\n",
       "    <tr>\n",
       "      <th>230</th>\n",
       "      <td>sj</td>\n",
       "      <td>1994</td>\n",
       "      <td>39</td>\n",
       "      <td>1994-10-01</td>\n",
       "      <td>NaN</td>\n",
       "      <td>NaN</td>\n",
       "      <td>NaN</td>\n",
       "      <td>NaN</td>\n",
       "      <td>55.88</td>\n",
       "      <td>299.508571</td>\n",
       "      <td>...</td>\n",
       "      <td>45.2</td>\n",
       "      <td>80.372857</td>\n",
       "      <td>55.88</td>\n",
       "      <td>17.248571</td>\n",
       "      <td>2.6</td>\n",
       "      <td>28.014286</td>\n",
       "      <td>6.7</td>\n",
       "      <td>33.9</td>\n",
       "      <td>23.3</td>\n",
       "      <td>31.5</td>\n",
       "    </tr>\n",
       "  </tbody>\n",
       "</table>\n",
       "<p>1 rows × 24 columns</p>\n",
       "</div>"
      ],
      "text/plain": [
       "    city  year  weekofyear week_start_date  ndvi_ne  ndvi_nw  ndvi_se  \\\n",
       "230   sj  1994          39      1994-10-01      NaN      NaN      NaN   \n",
       "\n",
       "     ndvi_sw  prec_amt_mm  re_an_air_temp_k  ...  re_an_precip_amt_kg_per_m2  \\\n",
       "230      NaN        55.88        299.508571  ...                        45.2   \n",
       "\n",
       "     re_an_relative_hd_percent  re_an_sat_precip_amt_mm  \\\n",
       "230                  80.372857                    55.88   \n",
       "\n",
       "     re_an_specific_hd_g_per_kg  re_an_tdtr_k  stn_avg_temp_c  \\\n",
       "230                   17.248571           2.6       28.014286   \n",
       "\n",
       "     stn_diur_temp_rng_c  stn_max_temp_c  stn_min_temp_c  stn_precip_mm  \n",
       "230                  6.7            33.9            23.3           31.5  \n",
       "\n",
       "[1 rows x 24 columns]"
      ]
     },
     "execution_count": 15,
     "metadata": {},
     "output_type": "execute_result"
    }
   ],
   "source": [
    "data.iloc[[230]]"
   ]
  },
  {
   "cell_type": "code",
   "execution_count": 16,
   "metadata": {},
   "outputs": [
    {
     "data": {
      "text/html": [
       "<div>\n",
       "<style scoped>\n",
       "    .dataframe tbody tr th:only-of-type {\n",
       "        vertical-align: middle;\n",
       "    }\n",
       "\n",
       "    .dataframe tbody tr th {\n",
       "        vertical-align: top;\n",
       "    }\n",
       "\n",
       "    .dataframe thead th {\n",
       "        text-align: right;\n",
       "    }\n",
       "</style>\n",
       "<table border=\"1\" class=\"dataframe\">\n",
       "  <thead>\n",
       "    <tr style=\"text-align: right;\">\n",
       "      <th></th>\n",
       "      <th>city</th>\n",
       "      <th>year</th>\n",
       "      <th>weekofyear</th>\n",
       "      <th>total_cases</th>\n",
       "    </tr>\n",
       "  </thead>\n",
       "  <tbody>\n",
       "    <tr>\n",
       "      <th>230</th>\n",
       "      <td>sj</td>\n",
       "      <td>1994</td>\n",
       "      <td>39</td>\n",
       "      <td>395</td>\n",
       "    </tr>\n",
       "  </tbody>\n",
       "</table>\n",
       "</div>"
      ],
      "text/plain": [
       "    city  year  weekofyear  total_cases\n",
       "230   sj  1994          39          395"
      ]
     },
     "execution_count": 16,
     "metadata": {},
     "output_type": "execute_result"
    }
   ],
   "source": [
    "y_train.iloc[[230]]"
   ]
  },
  {
   "cell_type": "code",
   "execution_count": 17,
   "metadata": {},
   "outputs": [
    {
     "data": {
      "text/html": [
       "<div>\n",
       "<style scoped>\n",
       "    .dataframe tbody tr th:only-of-type {\n",
       "        vertical-align: middle;\n",
       "    }\n",
       "\n",
       "    .dataframe tbody tr th {\n",
       "        vertical-align: top;\n",
       "    }\n",
       "\n",
       "    .dataframe thead th {\n",
       "        text-align: right;\n",
       "    }\n",
       "</style>\n",
       "<table border=\"1\" class=\"dataframe\">\n",
       "  <thead>\n",
       "    <tr style=\"text-align: right;\">\n",
       "      <th></th>\n",
       "      <th>city</th>\n",
       "      <th>year</th>\n",
       "      <th>weekofyear</th>\n",
       "      <th>week_start_date</th>\n",
       "      <th>ndvi_ne</th>\n",
       "      <th>ndvi_nw</th>\n",
       "      <th>ndvi_se</th>\n",
       "      <th>ndvi_sw</th>\n",
       "      <th>prec_amt_mm</th>\n",
       "      <th>re_an_air_temp_k</th>\n",
       "      <th>...</th>\n",
       "      <th>re_an_relative_hd_percent</th>\n",
       "      <th>re_an_sat_precip_amt_mm</th>\n",
       "      <th>re_an_specific_hd_g_per_kg</th>\n",
       "      <th>re_an_tdtr_k</th>\n",
       "      <th>stn_avg_temp_c</th>\n",
       "      <th>stn_diur_temp_rng_c</th>\n",
       "      <th>stn_max_temp_c</th>\n",
       "      <th>stn_min_temp_c</th>\n",
       "      <th>stn_precip_mm</th>\n",
       "      <th>total_cases</th>\n",
       "    </tr>\n",
       "  </thead>\n",
       "  <tbody>\n",
       "    <tr>\n",
       "      <th>230</th>\n",
       "      <td>sj</td>\n",
       "      <td>1994</td>\n",
       "      <td>39</td>\n",
       "      <td>1994-10-01</td>\n",
       "      <td>0.04585</td>\n",
       "      <td>0.076225</td>\n",
       "      <td>0.0955</td>\n",
       "      <td>0.192925</td>\n",
       "      <td>55.88</td>\n",
       "      <td>299.508571</td>\n",
       "      <td>...</td>\n",
       "      <td>80.372857</td>\n",
       "      <td>55.88</td>\n",
       "      <td>17.248571</td>\n",
       "      <td>2.6</td>\n",
       "      <td>28.014286</td>\n",
       "      <td>6.7</td>\n",
       "      <td>33.9</td>\n",
       "      <td>23.3</td>\n",
       "      <td>31.5</td>\n",
       "      <td>395</td>\n",
       "    </tr>\n",
       "  </tbody>\n",
       "</table>\n",
       "<p>1 rows × 25 columns</p>\n",
       "</div>"
      ],
      "text/plain": [
       "    city  year  weekofyear week_start_date  ndvi_ne   ndvi_nw  ndvi_se  \\\n",
       "230   sj  1994          39      1994-10-01  0.04585  0.076225   0.0955   \n",
       "\n",
       "      ndvi_sw  prec_amt_mm  re_an_air_temp_k  ...  re_an_relative_hd_percent  \\\n",
       "230  0.192925        55.88        299.508571  ...                  80.372857   \n",
       "\n",
       "     re_an_sat_precip_amt_mm  re_an_specific_hd_g_per_kg  re_an_tdtr_k  \\\n",
       "230                    55.88                   17.248571           2.6   \n",
       "\n",
       "     stn_avg_temp_c  stn_diur_temp_rng_c  stn_max_temp_c  stn_min_temp_c  \\\n",
       "230       28.014286                  6.7            33.9            23.3   \n",
       "\n",
       "     stn_precip_mm  total_cases  \n",
       "230           31.5          395  \n",
       "\n",
       "[1 rows x 25 columns]"
      ]
     },
     "execution_count": 17,
     "metadata": {},
     "output_type": "execute_result"
    }
   ],
   "source": [
    "new_df.iloc[[230]]"
   ]
  },
  {
   "cell_type": "markdown",
   "metadata": {},
   "source": [
    "###### b). Do a scatter plot of weekofyear on x-axis and total_cases on y-axis and observe if there is a relationship."
   ]
  },
  {
   "cell_type": "code",
   "execution_count": 18,
   "metadata": {},
   "outputs": [],
   "source": [
    "import seaborn as sns\n",
    "import matplotlib.pyplot as plt\n",
    "sns.set(rc={'figure.figsize':(11,8)})"
   ]
  },
  {
   "cell_type": "code",
   "execution_count": 19,
   "metadata": {},
   "outputs": [
    {
     "data": {
      "image/png": "[encoded data removed]",
      "text/plain": [
       "<Figure size 792x576 with 1 Axes>"
      ]
     },
     "metadata": {},
     "output_type": "display_data"
    }
   ],
   "source": [
    "sns.set(rc={'figure.figsize':(11,8)})\n",
    "sns.scatterplot(x=\"weekofyear\", y=\"total_cases\", data=new_df)\n",
    "plt.title(\"Plot of Week of year and Total cases\")\n",
    "plt.show()"
   ]
  },
  {
   "cell_type": "markdown",
   "metadata": {},
   "source": [
    "###### There seems a kind off normal distribution between weeks 20 and 50. and for the weeks 0 to 20 it has a decreasing curve "
   ]
  },
  {
   "cell_type": "markdown",
   "metadata": {},
   "source": [
    "###### c). Do a box plot to observe the density of data and if it complies to Central Limit Theorem (for large enough data, mean of sample is mean of population, or data is tightly packed close to the mean)"
   ]
  },
  {
   "cell_type": "code",
   "execution_count": 20,
   "metadata": {},
   "outputs": [
    {
     "data": {
      "text/plain": [
       "Text(0.5, 1.0, 'Box plot of the Total cases')"
      ]
     },
     "execution_count": 20,
     "metadata": {},
     "output_type": "execute_result"
    },
    {
     "data": {
      "image/png": "[encoded data removed]",
      "text/plain": [
       "<Figure size 792x576 with 1 Axes>"
      ]
     },
     "metadata": {},
     "output_type": "display_data"
    }
   ],
   "source": [
    "sns.boxplot(new_df.total_cases,orient='v')\n",
    "plt.title(\"Box plot of the Total cases\")"
   ]
  },
  {
   "cell_type": "code",
   "execution_count": 21,
   "metadata": {},
   "outputs": [
    {
     "data": {
      "text/plain": [
       "Text(0.5, 1.0, 'the Right skew distribution of total cases')"
      ]
     },
     "execution_count": 21,
     "metadata": {},
     "output_type": "execute_result"
    },
    {
     "data": {
      "image/png": "[encoded data removed]",
      "text/plain": [
       "<Figure size 792x576 with 1 Axes>"
      ]
     },
     "metadata": {},
     "output_type": "display_data"
    }
   ],
   "source": [
    "sns.distplot(new_df.total_cases)\n",
    "plt.title(\"the Right skew distribution of total cases\")"
   ]
  },
  {
   "cell_type": "markdown",
   "metadata": {},
   "source": [
    "The above plot shows that the distribution of total cases is skewed towards right"
   ]
  },
  {
   "cell_type": "markdown",
   "metadata": {},
   "source": [
    "###### d). Find the mean, min, max and standard deviation of total_cases by cityd). Find the mean, min, max and standard deviation of total_cases by city"
   ]
  },
  {
   "cell_type": "code",
   "execution_count": 22,
   "metadata": {
    "scrolled": true
   },
   "outputs": [
    {
     "data": {
      "text/plain": [
       "city\n",
       "iq     7.565385\n",
       "sj    34.180556\n",
       "Name: total_cases, dtype: float64"
      ]
     },
     "execution_count": 22,
     "metadata": {},
     "output_type": "execute_result"
    }
   ],
   "source": [
    "new_df.groupby('city')['total_cases'].mean()"
   ]
  },
  {
   "cell_type": "code",
   "execution_count": 23,
   "metadata": {},
   "outputs": [
    {
     "data": {
      "text/plain": [
       "city\n",
       "iq    0\n",
       "sj    0\n",
       "Name: total_cases, dtype: int64"
      ]
     },
     "execution_count": 23,
     "metadata": {},
     "output_type": "execute_result"
    }
   ],
   "source": [
    "new_df.groupby('city')['total_cases'].min()"
   ]
  },
  {
   "cell_type": "code",
   "execution_count": 24,
   "metadata": {},
   "outputs": [
    {
     "data": {
      "text/plain": [
       "city\n",
       "iq    116\n",
       "sj    461\n",
       "Name: total_cases, dtype: int64"
      ]
     },
     "execution_count": 24,
     "metadata": {},
     "output_type": "execute_result"
    }
   ],
   "source": [
    "new_df.groupby('city')['total_cases'].max()"
   ]
  },
  {
   "cell_type": "code",
   "execution_count": 25,
   "metadata": {},
   "outputs": [
    {
     "data": {
      "text/plain": [
       "city\n",
       "iq    10.765478\n",
       "sj    51.381372\n",
       "Name: total_cases, dtype: float64"
      ]
     },
     "execution_count": 25,
     "metadata": {},
     "output_type": "execute_result"
    }
   ],
   "source": [
    "new_df.groupby('city')['total_cases'].std()"
   ]
  },
  {
   "cell_type": "markdown",
   "metadata": {},
   "source": [
    "All the above statistics show that the difference between the two cities is significant and the city sj has "
   ]
  },
  {
   "cell_type": "markdown",
   "metadata": {},
   "source": [
    "###### e). Read the relationship between mean and standard deviation from the link given here and describe the data of total_cases by city, if there is too much variation or too little variation https://www-users.york.ac.uk/~mb55/msc/applbio/week3/sd_text.pdf"
   ]
  },
  {
   "cell_type": "markdown",
   "metadata": {},
   "source": [
    "###### 5. Create a temp data frame by grouping the total_cases by weekofyear and draw a histogram of total_cases and provide insights based on the distribution.\n"
   ]
  },
  {
   "cell_type": "code",
   "execution_count": 27,
   "metadata": {},
   "outputs": [
    {
     "data": {
      "text/plain": [
       "Text(0.5, 1.0, 'Histogram of the total cases based on weeks')"
      ]
     },
     "execution_count": 27,
     "metadata": {},
     "output_type": "execute_result"
    },
    {
     "data": {
      "image/png": "[encoded data removed]",
      "text/plain": [
       "<Figure size 792x576 with 1 Axes>"
      ]
     },
     "metadata": {},
     "output_type": "display_data"
    }
   ],
   "source": [
    "temp = new_df[['total_cases','weekofyear']].groupby('weekofyear')['total_cases'].sum().reset_index()\n",
    "sns.distplot(temp.total_cases)\n",
    "plt.title(\"Histogram of the total cases based on weeks\")"
   ]
  },
  {
   "cell_type": "code",
   "execution_count": 28,
   "metadata": {},
   "outputs": [
    {
     "data": {
      "text/plain": [
       "Text(0.5, 1.0, 'Scatterplot of Week of year and total cases')"
      ]
     },
     "execution_count": 28,
     "metadata": {},
     "output_type": "execute_result"
    },
    {
     "data": {
      "image/png": "[encoded data removed]",
      "text/plain": [
       "<Figure size 792x576 with 1 Axes>"
      ]
     },
     "metadata": {},
     "output_type": "display_data"
    }
   ],
   "source": [
    "sns.scatterplot(temp.weekofyear, temp.total_cases)\n",
    "plt.title(\"Scatterplot of Week of year and total cases\")"
   ]
  },
  {
   "cell_type": "code",
   "execution_count": null,
   "metadata": {},
   "outputs": [],
   "source": []
  },
  {
   "cell_type": "markdown",
   "metadata": {},
   "source": [
    "# Assignment 2 - Questions"
   ]
  },
  {
   "cell_type": "code",
   "execution_count": 63,
   "metadata": {},
   "outputs": [],
   "source": [
    "assign_2 = new_df"
   ]
  },
  {
   "cell_type": "code",
   "execution_count": 64,
   "metadata": {},
   "outputs": [
    {
     "data": {
      "text/plain": [
       "(1456, 25)"
      ]
     },
     "execution_count": 64,
     "metadata": {},
     "output_type": "execute_result"
    }
   ],
   "source": [
    "assign_2.shape"
   ]
  },
  {
   "cell_type": "markdown",
   "metadata": {},
   "source": [
    "## <font color='green'> Make an 80-20 stratified split based on the target data </font>"
   ]
  },
  {
   "cell_type": "code",
   "execution_count": 65,
   "metadata": {
    "scrolled": true
   },
   "outputs": [],
   "source": [
    "y = assign_2['total_cases']\n",
    "X = assign_2.drop('total_cases',axis=1)\n",
    "\n",
    "# X_train, X_test, y_train, y_test = train_test_split(X, y, stratify=y, test_size=0.20)"
   ]
  },
  {
   "cell_type": "markdown",
   "metadata": {},
   "source": [
    "#### ValueError: The least populated class in y has only 1 member, which is too few. The minimum number of groups for any class cannot be less than 2."
   ]
  },
  {
   "cell_type": "markdown",
   "metadata": {},
   "source": [
    "### The stratified train, test split throws error because the Y contains values with a single frequency. In order to do the stratified split the frequency of each value should be greater than 1. The below value_counts shows that there are few records which have a single frequency......\n",
    "\n",
    "Stratified sampling aims at splitting a data set so that each split is similar with respect to something. In a classification setting, it is often chosen to ensure that the train and test sets have approximately the same percentage of samples of each target class as the complete set"
   ]
  },
  {
   "cell_type": "code",
   "execution_count": 66,
   "metadata": {
    "scrolled": true
   },
   "outputs": [
    {
     "data": {
      "text/plain": [
       "0      100\n",
       "6       71\n",
       "3       70\n",
       "5       70\n",
       "2       69\n",
       "      ... \n",
       "135      1\n",
       "137      1\n",
       "141      1\n",
       "142      1\n",
       "461      1\n",
       "Name: total_cases, Length: 135, dtype: int64"
      ]
     },
     "execution_count": 66,
     "metadata": {},
     "output_type": "execute_result"
    }
   ],
   "source": [
    "y.value_counts()"
   ]
  },
  {
   "cell_type": "markdown",
   "metadata": {},
   "source": [
    "#### lets remove the reords which do not have frequency greater than 1"
   ]
  },
  {
   "cell_type": "code",
   "execution_count": 67,
   "metadata": {},
   "outputs": [],
   "source": [
    "# assign_2.to_csv(\"data_assignment_2.csv\",index=False)"
   ]
  },
  {
   "cell_type": "code",
   "execution_count": 68,
   "metadata": {},
   "outputs": [],
   "source": [
    "assign_2.drop(['weekofyear', 'week_start_date'],1,inplace=True)\n",
    "assign_2 =  assign_2.groupby('total_cases').filter(lambda x: len(x) > 1)\n",
    "y = assign_2['total_cases']\n",
    "X = assign_2.drop('total_cases',axis=1)\n",
    "X_train, X_test, y_train, y_test = train_test_split(X, y, stratify=y, test_size=0.20)"
   ]
  },
  {
   "cell_type": "markdown",
   "metadata": {},
   "source": [
    "## <font color='green'> Preprocess the data (Encode the categorical features and Standardize the numerical features) </font>"
   ]
  },
  {
   "cell_type": "code",
   "execution_count": 69,
   "metadata": {},
   "outputs": [],
   "source": [
    "categoricalFeatureNames = [\"city\", 'year']\n",
    "#convert the attributes listed above to categorical form\n",
    "for var in categoricalFeatureNames:\n",
    "    X_train[var] = X_train[var].astype(\"category\")\n",
    "    X_test[var] = X_test[var].astype(\"category\")\n",
    "    \n",
    "X_train_dummies = pd.get_dummies(X_train[['city','year']])\n",
    "X_test_dummies = pd.get_dummies(X_test[['city','year']])"
   ]
  },
  {
   "cell_type": "code",
   "execution_count": 70,
   "metadata": {},
   "outputs": [],
   "source": [
    "scaler = StandardScaler()\n",
    "standardized_numeric_data = scaler.fit_transform(X_train.drop(columns=['city', 'year']))\n",
    "X_train_np = np.concatenate((standardized_numeric_data,np.array(X_train_dummies)),axis=1)\n",
    "standardized_numeric_data = scaler.transform(X_test.drop(columns=['city', 'year']))\n",
    "X_test_np = np.concatenate((standardized_numeric_data,np.array(X_test_dummies)),axis=1)"
   ]
  },
  {
   "cell_type": "markdown",
   "metadata": {},
   "source": [
    "## <font color='green'> Build a stochastic gradient descent regressor, train the model </font>"
   ]
  },
  {
   "cell_type": "code",
   "execution_count": 37,
   "metadata": {},
   "outputs": [
    {
     "name": "stdout",
     "output_type": "stream",
     "text": [
      "RMSE error on train dataset  16.312257483417493\n",
      "RMSE error on test dataset 15.900844937897077\n"
     ]
    }
   ],
   "source": [
    "from sklearn.linear_model import SGDRegressor\n",
    "sgd = SGDRegressor(max_iter=5000, random_state=42)\n",
    "sgd.fit(X_train_np,y_train)\n",
    "y_predict = sgd.predict(X_test_np)\n",
    "y_predict_train = sgd.predict(X_train_np)\n",
    "rmse_train = sqrt(mean_squared_error(y_train, y_predict_train))\n",
    "rmse = sqrt(mean_squared_error(y_test, y_predict))\n",
    "print(\"RMSE error on train dataset \",rmse_train)\n",
    "print(\"RMSE error on test dataset\",rmse)"
   ]
  },
  {
   "cell_type": "markdown",
   "metadata": {},
   "source": [
    "### List the hyper-parameters that can be tuned in SGD. Show the code along with comments on the parameter value chosen (use class presentation, discussion notes, some online reading) and why this value was chosen. Show the improvement you achieved in model accuracy."
   ]
  },
  {
   "cell_type": "markdown",
   "metadata": {},
   "source": [
    "The Parameters that can be tuned for SGD are:\n",
    "    \n",
    "    1.  Alpha - Constant that multiplies the regularization term. Defaults to 0.0001. This value penalizes the amount of regularization \n",
    "    \n",
    "    2. l1_ratio: The value of L1 regularization with respect to 1. The lower the value, the more L1 regularization in the fit\n",
    "    \n",
    "    3. learning_rate - The constant that gets multiplied to the cost function \n",
    "    \n",
    "    4. loss - The type of loss function used in calculating the error, in this training fit the loss is mean square error\n",
    "    \n",
    "    5. max_iter- The number of iterations to update the final new co-efficients\n",
    "    \n",
    "    \n",
    "    "
   ]
  },
  {
   "cell_type": "code",
   "execution_count": 38,
   "metadata": {},
   "outputs": [
    {
     "name": "stdout",
     "output_type": "stream",
     "text": [
      "RMSE error on train dataset  19.128320365537203\n",
      "RMSE error on test dataset  18.562304718211216\n"
     ]
    }
   ],
   "source": [
    "#by setting the number of iterations to 5000, the model is overfitting.\n",
    "#Hence I dropped the max_iter to 1000 and added increased the penality factor to 0.5\n",
    "#with this the model has regularized better.\n",
    "\n",
    "sgd_clf_2 = SGDRegressor(max_iter=1000,alpha=0.5, random_state=42)\n",
    "sgd_clf_2.fit(X_train_np,y_train)\n",
    "y_predict = sgd_clf_2.predict(X_test_np)\n",
    "y_predict_train = sgd_clf_2.predict(X_train_np)\n",
    "rmse_train = sqrt(mean_squared_error(y_train, y_predict_train))\n",
    "print(\"RMSE error on train dataset \",rmse_train)\n",
    "rmse = sqrt(mean_squared_error(y_test, y_predict))\n",
    "print(\"RMSE error on test dataset \", rmse)"
   ]
  },
  {
   "cell_type": "code",
   "execution_count": null,
   "metadata": {},
   "outputs": [],
   "source": []
  },
  {
   "cell_type": "code",
   "execution_count": 39,
   "metadata": {},
   "outputs": [
    {
     "name": "stdout",
     "output_type": "stream",
     "text": [
      "RMSE error on train dataset  18.13928155462619\n",
      "RMSE error on test dataset  17.610976271056405\n"
     ]
    }
   ],
   "source": [
    "#While the alpha value is bit high in the above model, reducing it to 0.1 has\n",
    "#helped in reducing the error further and also by changing the learning rate, to adaptive, \n",
    "#the model converged with 2000 iterations\n",
    "\n",
    "sgd_clf_3 = SGDRegressor(max_iter=2000,alpha=0.1,learning_rate=\"adaptive\", random_state=42)\n",
    "sgd_clf_3.fit(X_train_np,y_train)\n",
    "y_predict = sgd_clf_3.predict(X_test_np)\n",
    "y_predict_train = sgd_clf_3.predict(X_train_np)\n",
    "rmse_train = sqrt(mean_squared_error(y_train, y_predict_train))\n",
    "print(\"RMSE error on train dataset \",rmse_train)\n",
    "rmse = sqrt(mean_squared_error(y_test, y_predict))\n",
    "print(\"RMSE error on test dataset \", rmse)"
   ]
  },
  {
   "cell_type": "markdown",
   "metadata": {},
   "source": [
    "### Evaluate your model based on applicable metrics. Show the metric(s) you chose and why you chose this(these) metrics."
   ]
  },
  {
   "cell_type": "markdown",
   "metadata": {},
   "source": [
    "##### As our dependable variable is a Numeric value, I believe using Root Means Square Error will be the best metric to evaluate"
   ]
  },
  {
   "cell_type": "code",
   "execution_count": 40,
   "metadata": {},
   "outputs": [
    {
     "data": {
      "text/plain": [
       "17.610976271056405"
      ]
     },
     "execution_count": 40,
     "metadata": {},
     "output_type": "execute_result"
    }
   ],
   "source": [
    "rmse = sqrt(mean_squared_error(y_test, y_predict))\n",
    "rmse"
   ]
  },
  {
   "cell_type": "markdown",
   "metadata": {},
   "source": [
    "## Plot Learning curve and provide insights"
   ]
  },
  {
   "cell_type": "markdown",
   "metadata": {},
   "source": [
    "###### Learning curve with respect to iterations"
   ]
  },
  {
   "cell_type": "code",
   "execution_count": 41,
   "metadata": {},
   "outputs": [],
   "source": [
    "from sklearn.metrics import mean_squared_error\n",
    "from matplotlib.pyplot import figure\n",
    "def plot_learning_curves(X_train, y_train, X_val, y_val,iterations):\n",
    "    train_errors, val_errors = [], []\n",
    "    \n",
    "    for m in range(1, iterations):\n",
    "        model = SGDRegressor(max_iter=m,alpha=0.1,learning_rate=\"adaptive\", random_state=42)\n",
    "        model.fit(X_train, y_train)\n",
    "        y_train_predict = model.predict(X_train)\n",
    "        y_val_predict = model.predict(X_val)\n",
    "        train_errors.append(mean_squared_error(y_train_predict, y_train))\n",
    "        val_errors.append(mean_squared_error(y_val_predict, y_val))\n",
    "    \n",
    "    \n",
    "    figure(num=None, figsize=(12, 9), dpi=80, facecolor='w', edgecolor='k')\n",
    "    plt.title(\"Train and test loss with Iterations\")\n",
    "    \n",
    "    plt.plot( range(1,iterations),np.sqrt(train_errors), \"r-+\", linewidth=2, label=\"train\")\n",
    "    plt.plot(np.sqrt(val_errors), \"b-\", linewidth=3, label=\"val\")\n",
    "    plt.xlabel(\"The number of Iterations of SGD\")\n",
    "    plt.ylabel(\"The RMSE error\")\n",
    "    plt.ylim([16,21])\n",
    "    plt.legend()"
   ]
  },
  {
   "cell_type": "code",
   "execution_count": 42,
   "metadata": {
    "scrolled": false
   },
   "outputs": [
    {
     "data": {
      "image/png": "[encoded data removed]",
      "text/plain": [
       "<Figure size 960x720 with 1 Axes>"
      ]
     },
     "metadata": {},
     "output_type": "display_data"
    }
   ],
   "source": [
    "plot_learning_curves(X_train_np, y_train, X_test_np, y_test,100)"
   ]
  },
  {
   "cell_type": "code",
   "execution_count": 43,
   "metadata": {},
   "outputs": [
    {
     "data": {
      "text/plain": [
       "<matplotlib.legend.Legend at 0x23f4a0c61c8>"
      ]
     },
     "execution_count": 43,
     "metadata": {},
     "output_type": "execute_result"
    },
    {
     "data": {
      "image/png": "[encoded data removed]",
      "text/plain": [
       "<Figure size 960x720 with 1 Axes>"
      ]
     },
     "metadata": {},
     "output_type": "display_data"
    }
   ],
   "source": [
    "train_errors, test_errors = [], []\n",
    "for m in range(1, len(X_train_np)):\n",
    "    sgd = SGDRegressor(max_iter=800,alpha=0.1,learning_rate=\"adaptive\", random_state=42)\n",
    "    sgd.fit(X_train_np[:m], y_train[:m])\n",
    "    y_train_predict = sgd.predict(X_train_np[:m])\n",
    "    y_test_predict = sgd.predict(X_test_np)\n",
    "    train_errors.append(sqrt(mean_squared_error(y_train[:m], y_train_predict)))\n",
    "    test_errors.append(sqrt(mean_squared_error(y_test, y_test_predict)))\n",
    "    \n",
    "figure(num=None, figsize=(12, 9), dpi=80, facecolor='w', edgecolor='k')    \n",
    "plt.plot(train_errors, \"r+-\", linewidth=2, label = \"Train\")\n",
    "plt.plot(test_errors, \"b-\", linewidth=3, label = \"Test\")\n",
    "plt.title(\"The Learning curve with respect to number of samples in Training Dataset\")\n",
    "plt.legend(loc=\"upper right\", fontsize=14) \n",
    "plt.xlabel(\"Training set size\", fontsize=14)\n",
    "plt.ylabel(\"RMSE\", fontsize=14)\n",
    "plt.legend()"
   ]
  },
  {
   "cell_type": "markdown",
   "metadata": {},
   "source": [
    "## Analysis\n",
    "We can see that error remained constant for training and test set when the number of iterations are 200. From this we can conlude that the increase in number of records in training set does nota add much value and just 200 records are enough to \n",
    "train the model and thus save resources.\n",
    "\n",
    "\n",
    "There is little fluctuation on the train error after 200 iterations, This might be because of the change in data and hence the model not able to predict well. Overall the data looks consistent and this looks like a generalized model, because the train error is not going down or up with increase in rows\n",
    "\n",
    "Also, upto 40 iterations are enough to get to a steady train and test error"
   ]
  },
  {
   "cell_type": "markdown",
   "metadata": {},
   "source": [
    "## <font color='green'> Assignment 3</font>"
   ]
  },
  {
   "cell_type": "markdown",
   "metadata": {},
   "source": [
    "### <font color='blue'> 1. Write a brief statement: Is it required to consider the repeating features in the model? (For example: precipitation_amt_mm and reanalysis_sat_precip_amt_mm. Similarly there are others). List which features you will choose in this model. Select the required columns in the dataframe and drop the others.</font>"
   ]
  },
  {
   "cell_type": "code",
   "execution_count": 71,
   "metadata": {},
   "outputs": [
    {
     "data": {
      "text/plain": [
       "(1456, 22)"
      ]
     },
     "execution_count": 71,
     "metadata": {},
     "output_type": "execute_result"
    }
   ],
   "source": [
    "assign_3 = new_df\n",
    "assign_3.drop('prec_amt_mm',axis=1,inplace=True)\n",
    "# print(assign_3.columns)\n",
    "assign_3.shape"
   ]
  },
  {
   "cell_type": "code",
   "execution_count": 72,
   "metadata": {},
   "outputs": [
    {
     "data": {
      "text/plain": [
       "re_an_avg_temp_k            re_an_air_temp_k              0.901969\n",
       "re_an_air_temp_k            re_an_avg_temp_k              0.901969\n",
       "re_an_max_air_temp_k        re_an_tdtr_k                  0.918764\n",
       "re_an_tdtr_k                re_an_max_air_temp_k          0.918764\n",
       "re_an_dew_point_temp_k      re_an_specific_hd_g_per_kg    0.997045\n",
       "re_an_specific_hd_g_per_kg  re_an_dew_point_temp_k        0.997045\n",
       "dtype: float64"
      ]
     },
     "execution_count": 72,
     "metadata": {},
     "output_type": "execute_result"
    }
   ],
   "source": [
    "c = assign_3.corr().abs()\n",
    "sort = c.unstack() \n",
    "correlated_cols = sort.sort_values(kind=\"quicksort\") \n",
    "correlated_cols = correlated_cols.dropna() \n",
    "correlated_cols[(correlated_cols.values > 0.9) & (correlated_cols.values <1)]"
   ]
  },
  {
   "cell_type": "markdown",
   "metadata": {},
   "source": [
    "    When two attributes give information about the same thing then they are duplicates and these might trick our model in    terms of rule generation. As the two attributes have same data, the rules generated will be same thus, there wont be any use of having such duplicate columns"
   ]
  },
  {
   "cell_type": "markdown",
   "metadata": {},
   "source": [
    "So looking at the variables, I am dropping the columns which have high corelation (0.9 >).\n",
    "These variables are :\n",
    "\n",
    "    re_an_max_air_temp_k - This is intercorelated with re_an_tdtr_k. Hence I am dropping this as re_an_tdtr_k is the difference between max and min temparature of the day\n",
    "    \n",
    "    \n",
    "    re_an_dew_point_temp_k - This is corelated with  re_an_specific_hd_g_per_kg. This says that the pressure is highly dependent on temparature. Hence droppping the pressure\n",
    "    "
   ]
  },
  {
   "cell_type": "code",
   "execution_count": 81,
   "metadata": {},
   "outputs": [],
   "source": [
    "assign_3 = assign_3.drop(['re_an_max_air_temp_k','re_an_dew_point_temp_k'],axis=1)"
   ]
  },
  {
   "cell_type": "markdown",
   "metadata": {},
   "source": [
    "### <font color='blue'>2. Preprocess the data</font>\n",
    "\n",
    "\n",
    "    A) Encode the categorical features: Already created in assignment 2\n"
   ]
  },
  {
   "cell_type": "code",
   "execution_count": 50,
   "metadata": {},
   "outputs": [],
   "source": [
    "# categoricalFeatureNames = [\"city\", 'year']\n",
    "\n",
    "# #convert the attributes listed above to categorical form\n",
    "\n",
    "# for var in categoricalFeatureNames:\n",
    "#     assign_3[var] = assign_3[var].astype(\"category\")\n",
    "    \n",
    "# X_assign_3_dummies = pd.get_dummies(X_train[['city','year']])"
   ]
  },
  {
   "cell_type": "markdown",
   "metadata": {},
   "source": [
    "     B) Abbreviate the column names - Worked on it in assignment 1"
   ]
  },
  {
   "cell_type": "code",
   "execution_count": 51,
   "metadata": {},
   "outputs": [],
   "source": [
    "# assign_3.columns = assign_3.columns.str.replace(r\"reanalysis\", \"re_an\")\n",
    "# assign_3.columns = assign_3.columns.str.replace(r\"humidity\", \"hd\")\n",
    "# assign_3.columns = assign_3.columns.str.replace(r\"precipitation\",\"prec\")"
   ]
  },
  {
   "cell_type": "markdown",
   "metadata": {},
   "source": [
    "      D) Handle NaNs - Filled with Mean in assignment 1"
   ]
  },
  {
   "cell_type": "code",
   "execution_count": 52,
   "metadata": {},
   "outputs": [],
   "source": [
    "# assign_3 = assign_3.fillna(method='ffill')"
   ]
  },
  {
   "cell_type": "markdown",
   "metadata": {},
   "source": [
    "     E) Convert percentage to value/100 (check which option gives better result, as-is or divided/100)"
   ]
  },
  {
   "cell_type": "code",
   "execution_count": 53,
   "metadata": {},
   "outputs": [],
   "source": [
    "#Converting to just value did not improve the accuracy much. Just with percentage, I got a decent model"
   ]
  },
  {
   "cell_type": "markdown",
   "metadata": {},
   "source": [
    "      F) Scale the vegetation features (ndvi*) as 0, 1 (0 <= 0.25 and 1 > 0.25) as it is in scale of 0 to 0.5. Retain as is or use other scaling based on how model performs."
   ]
  },
  {
   "cell_type": "code",
   "execution_count": 54,
   "metadata": {},
   "outputs": [],
   "source": [
    "#I found th scaling option to be better with slight improve in the model performance\n",
    "veg_features = ['ndvi_ne','ndvi_nw','ndvi_se','ndvi_sw']\n",
    "for i in veg_features:\n",
    "    assign_3[i][assign_3[i] <= 0.25] = 0\n",
    "    assign_3[i][assign_3[i] > 0.25] = 1\n",
    "    assign_3[i] = assign_3[i].astype('category')"
   ]
  },
  {
   "cell_type": "markdown",
   "metadata": {},
   "source": [
    "      C & G) Standardize the numerical features, Make an 80-20 train-test split"
   ]
  },
  {
   "cell_type": "code",
   "execution_count": 55,
   "metadata": {},
   "outputs": [],
   "source": [
    "assign_3.to_csv(\"Assignment_3_data.csv\",index=False)"
   ]
  },
  {
   "cell_type": "code",
   "execution_count": 56,
   "metadata": {},
   "outputs": [],
   "source": [
    "X_numeric = assign_3.drop(columns=['city', 'year','total_cases',\n",
    "                                    'ndvi_ne','ndvi_nw','ndvi_se','ndvi_sw'])\n",
    "assign_3['year'] = assign_3.year.astype('category')\n",
    "dummy_attributes = assign_3[['city', 'year',\n",
    "                                    'ndvi_ne','ndvi_nw','ndvi_se','ndvi_sw']]\n",
    "X_dummies = pd.get_dummies(dummy_attributes)\n",
    "X_data = pd.concat([X_numeric,X_dummies ],axis=1)\n",
    "y_data = assign_3['total_cases']\n",
    "X_train, X_test, y_train, y_test = train_test_split(X_data, y_data, test_size=0.20)\n",
    "\n",
    "scaler = StandardScaler()\n",
    "standardized_numeric_data = scaler.fit_transform(X_train[X_numeric.columns])\n",
    "X_train_np = np.concatenate((standardized_numeric_data,np.array(X_train[X_dummies.columns])),axis=1)\n",
    "standardized_numeric_data_test = scaler.transform(X_test[X_numeric.columns])\n",
    "X_test_np = np.concatenate((standardized_numeric_data_test,np.array(X_test[X_dummies.columns])),axis=1)"
   ]
  },
  {
   "cell_type": "markdown",
   "metadata": {},
   "source": [
    "### <font color='blue'>3.Build a Linear SVR regressor, train the model</font>"
   ]
  },
  {
   "cell_type": "markdown",
   "metadata": {},
   "source": [
    "<font color='green'>      a. Evaluate your model based on applicable metrics. Show the metric(s) you chose and why you chose this(these) metrics. </font>\n",
    "    \n",
    "    I chose RMSE error (Root Mean Square Error). It is measure on how far from the regression line the data points are. THe RMSE error gives low weightage to points around the best fit line and high weightage to points farther from the line. It basically tells us how concentrated the data is arounf the line of best fit. The high error on train and low on test says that the model is under fitting and we can increase its complexity.\n",
    "   "
   ]
  },
  {
   "cell_type": "code",
   "execution_count": 57,
   "metadata": {},
   "outputs": [
    {
     "name": "stdout",
     "output_type": "stream",
     "text": [
      "The training error of the model is  18.788224893513494\n",
      "The testing error of the model is  15.242859091006817\n"
     ]
    }
   ],
   "source": [
    "svr_lin = LinearSVR()\n",
    "# With C as 1 and the l1 at 0 model is very naive and has high error.\n",
    "\n",
    "svr_lin.fit(X_train_np,y_train)\n",
    "y_train_predict = svr_lin.predict(X_train_np)\n",
    "y_test_predict = svr_lin.predict(X_test_np)\n",
    "train_errors= sqrt(mean_squared_error(y_train, y_train_predict))\n",
    "test_errors = sqrt(mean_squared_error(y_test, y_test_predict))\n",
    "print(\"The training error of the model is \", train_errors)\n",
    "print(\"The testing error of the model is \", test_errors)"
   ]
  },
  {
   "cell_type": "code",
   "execution_count": 58,
   "metadata": {},
   "outputs": [
    {
     "name": "stdout",
     "output_type": "stream",
     "text": [
      "The training error of the model is  18.277713635133672\n",
      "The testing error of the model is  14.829330776362132\n"
     ]
    }
   ],
   "source": [
    "svr_lin = LinearSVR(C=10, loss = 'epsilon_insensitive',epsilon=0.3)\n",
    "# With a higher Slack value of 10 and L1 regularization set at 0.3, I got reduction in the test and traing error\n",
    "\n",
    "svr_lin.fit(X_train_np,y_train)\n",
    "y_train_predict = svr_lin.predict(X_train_np)\n",
    "y_test_predict = svr_lin.predict(X_test_np)\n",
    "train_errors= sqrt(mean_squared_error(y_train, y_train_predict))\n",
    "test_errors = sqrt(mean_squared_error(y_test, y_test_predict))\n",
    "print(\"The training error of the model is \", train_errors)\n",
    "print(\"The testing error of the model is \", test_errors)\n"
   ]
  },
  {
   "cell_type": "markdown",
   "metadata": {},
   "source": [
    "<font color='green'>      b. List the hyper-parameters that can be tuned in Linear SVR. Explain the meaning of each hyper-parameter. Show the code along with comments on the parameter value chosen (use class presentation, discussion notes, some online reading) and why this value was chosen. Show the improvement you achieved in model accuracy. </font>\n",
    "    \n",
    "    \n",
    "    The Linear SVR is similar to the Traditional SVR but it supports only linear kernel and is implemented in terms of liblinear rather than libsvm.\n",
    "\n",
    "There are two main parameters to tune in the Linear version of SVR:\n",
    "  1. The choice of penalties - The penality is represented by C. This is the amount of influence slack variables has on the function. Slack variable is the non-linear points which are tough to classify. Hence, we will ignore these points. The C is the way of saying how much to ignore.  With high C value the models puts penalities on the slack points and hence creates an over-complicated one.\n",
    "  \n",
    "  2. Loss functions- The Lasso (L1) loss function is the standard way of entering the value in Linear SVR. By setting loss as epsilon insensitive we are saying it to start with L1 regularization and with epsilon of 0.3 I got least error"
   ]
  },
  {
   "cell_type": "markdown",
   "metadata": {},
   "source": [
    "<font color='green'>      c. Plot Learning curve and provide insights </font>\n",
    "\n",
    "\n",
    "    From the learning curve we can see that the error in train and test samples has stabilized after 150 samples. But as this is a linear kernel, it was not able to reduce the error further and with increase in the sample size the model did not learn much"
   ]
  },
  {
   "cell_type": "code",
   "execution_count": 59,
   "metadata": {},
   "outputs": [
    {
     "data": {
      "text/plain": [
       "<matplotlib.legend.Legend at 0x23f49ab2808>"
      ]
     },
     "execution_count": 59,
     "metadata": {},
     "output_type": "execute_result"
    },
    {
     "data": {
      "image/png": "[encoded data removed]",
      "text/plain": [
       "<Figure size 720x480 with 1 Axes>"
      ]
     },
     "metadata": {},
     "output_type": "display_data"
    }
   ],
   "source": [
    "train_errors, test_errors = [], []\n",
    "for m in range(1, len(X_train_np)):\n",
    "    svr_lin.fit(X_train_np[:m], y_train[:m])\n",
    "    y_train_predict = svr_lin.predict(X_train_np[:m])\n",
    "    y_test_predict = svr_lin.predict(X_test_np)\n",
    "    train_errors.append(sqrt(mean_squared_error(y_train[:m], y_train_predict)))\n",
    "    test_errors.append(sqrt(mean_squared_error(y_test, y_test_predict)))\n",
    "    \n",
    "figure(num=None, figsize=(9,6), dpi=80, facecolor='w', edgecolor='k')    \n",
    "plt.plot(train_errors, \"r+-\", linewidth=2, label = \"Train\")\n",
    "plt.plot(test_errors, \"b-\", linewidth=3, label = \"Test\")\n",
    "plt.title(\"The Learning curve with respect to number of samples in Training Dataset\")\n",
    "plt.legend(loc=\"upper right\", fontsize=14) \n",
    "plt.xlabel(\"Training set size\", fontsize=14)\n",
    "plt.ylabel(\"RMSE\", fontsize=14)\n",
    "plt.legend()"
   ]
  },
  {
   "cell_type": "markdown",
   "metadata": {},
   "source": [
    "### <font color='blue'>4. Build a SVR model with Linear Kernel, train the model"
   ]
  },
  {
   "cell_type": "markdown",
   "metadata": {},
   "source": [
    "<font color='green'>    a. Evaluate your model based on applicable metrics. Show the metric(s) you chose and why you chose this(these) metrics.\n",
    "    \n",
    "      I chose RMSE error (Root Mean Square Error). It is measure on how far from the regression line the data points are. THe RMSE error gives low weightage to points around the best fit line and high weightage to points farther from the line. It basically tells us how concentrated the data is arounf the line of best fit\n",
    "    \n",
    "<font color='green'>      b. List the hyper-parameters that can be tuned in SVR model with Linear Kernel. Show the code along with comments on the parameter value chosen (use class presentation, discussion notes, some online reading) and why this value was chosen. Show the improvement you achieved in model accuracy. \n",
    "  \n",
    "  \n",
    "      There are mainly Three parameters that can be tweaked to improve the performance of model\n",
    "    \n",
    "    C- Regularization Parameter - The Cost function on the slack variable. This controls the train error and test error relationship. To have a highly fitted model C value should be high\n",
    "\n",
    "    gamma- The kernel co-efficient for Non-linear functions.  The degree to which we can use the kernel, it is used to set the amount of N dimensions we can throw data and a complexity manager for kernel\n",
    "\n",
    "\n",
    "    Kernel - The type of Kernel for creating the hyperplane. This is the kernel matrix or kernel trick. There are different kernels A linear kernel throws the data in N dimensions and plots a linear curve, The Polynomial kernel increases the complexity and plots a curved hyperplane, Radial and hyperbolic ca learn any complex patterns."
   ]
  },
  {
   "cell_type": "code",
   "execution_count": 60,
   "metadata": {},
   "outputs": [
    {
     "name": "stdout",
     "output_type": "stream",
     "text": [
      "The training error of the model is  18.764585200997427\n",
      "The testing error of the model is  15.225338132781038\n"
     ]
    }
   ],
   "source": [
    "lin_svr = SVR(kernel = 'linear')\n",
    "lin_svr.fit(X_train_np,y_train)\n",
    "y_train_predict = lin_svr.predict(X_train_np)\n",
    "y_test_predict = lin_svr.predict(X_test_np)\n",
    "train_errors= sqrt(mean_squared_error(y_train, y_train_predict))\n",
    "test_errors = sqrt(mean_squared_error(y_test, y_test_predict))\n",
    "print(\"The training error of the model is \", train_errors)\n",
    "print(\"The testing error of the model is \", test_errors)"
   ]
  },
  {
   "cell_type": "code",
   "execution_count": 61,
   "metadata": {},
   "outputs": [
    {
     "name": "stdout",
     "output_type": "stream",
     "text": [
      "The training error of the model is  18.218726122735898\n",
      "The testing error of the model is  14.773372508512008\n"
     ]
    }
   ],
   "source": [
    "lin_svr = SVR(C=100,kernel = 'linear',epsilon=0.3,coef0=0.1,gamma='auto')\n",
    "lin_svr.fit(X_train_np,y_train)\n",
    "y_train_predict = lin_svr.predict(X_train_np)\n",
    "y_test_predict = lin_svr.predict(X_test_np)\n",
    "train_errors= sqrt(mean_squared_error(y_train, y_train_predict))\n",
    "test_errors = sqrt(mean_squared_error(y_test, y_test_predict))\n",
    "print(\"The training error of the model is \", train_errors)\n",
    "print(\"The testing error of the model is \", test_errors)"
   ]
  },
  {
   "cell_type": "markdown",
   "metadata": {},
   "source": [
    "<font color='green'> c. Plot Learning curve and provide insights\n",
    "    \n",
    "    THe Learning curve of Linear SVM with kernel is similar to the linear SVR, as these two are build from the same concepts. It is expected to have same output. The only difference I noticed is the time taken to perform training. The Linear SVR took very less time when comoared to the SVR with Kernel. Apart from it the information is same as above. Stabilizing after 150 samples"
   ]
  },
  {
   "cell_type": "code",
   "execution_count": 62,
   "metadata": {},
   "outputs": [
    {
     "data": {
      "text/plain": [
       "<matplotlib.legend.Legend at 0x23f49b37408>"
      ]
     },
     "execution_count": 62,
     "metadata": {},
     "output_type": "execute_result"
    },
    {
     "data": {
      "image/png": "[encoded data removed]",
      "text/plain": [
       "<Figure size 720x480 with 1 Axes>"
      ]
     },
     "metadata": {},
     "output_type": "display_data"
    }
   ],
   "source": [
    "train_errors, test_errors = [], []\n",
    "for m in range(1, len(X_train_np)):\n",
    "    lin_svr.fit(X_train_np[:m], y_train[:m])\n",
    "    y_train_predict = lin_svr.predict(X_train_np[:m])\n",
    "    y_test_predict = lin_svr.predict(X_test_np)\n",
    "    train_errors.append(sqrt(mean_squared_error(y_train[:m], y_train_predict)))\n",
    "    test_errors.append(sqrt(mean_squared_error(y_test, y_test_predict)))\n",
    "    \n",
    "figure(num=None, figsize=(9, 6), dpi=80, facecolor='w', edgecolor='k')    \n",
    "plt.plot(train_errors, \"r+-\", linewidth=2, label = \"Train\")\n",
    "plt.plot(test_errors, \"b-\", linewidth=3, label = \"Test\")\n",
    "plt.title(\"The Learning curve with respect to number of samples in Training Dataset\")\n",
    "plt.legend(loc=\"upper right\", fontsize=14) \n",
    "plt.xlabel(\"Training set size\", fontsize=14)\n",
    "plt.ylabel(\"RMSE\", fontsize=14)\n",
    "plt.legend()"
   ]
  },
  {
   "cell_type": "markdown",
   "metadata": {},
   "source": [
    "### <font color='blue'> 5. Create a submission file which has predictions for both cities in the submission format </font>"
   ]
  },
  {
   "cell_type": "code",
   "execution_count": 55,
   "metadata": {},
   "outputs": [],
   "source": [
    "test_df = pd.read_csv(\"C:/Users/mohad/Documents/USF/DSP/assignment_2/dengue_features_test.csv\")\n",
    "test_df.columns = test_df.columns.str.replace(r\"reanalysis\", \"re_an\")\n",
    "test_df.columns = test_df.columns.str.replace(r\"humidity\", \"hd\")\n",
    "test_df.columns = test_df.columns.str.replace(r\"precipitation\",\"prec\")\n",
    "test_df = test_df.fillna(method='ffill')\n",
    "\n",
    "veg_features = ['ndvi_ne','ndvi_nw','ndvi_se','ndvi_sw']\n",
    "for i in veg_features:\n",
    "    test_df[i][test_df[i] <= 0.25] = 0\n",
    "    test_df[i][test_df[i] > 0.25] = 1\n",
    "    test_df[i] = test_df[i].astype('category')"
   ]
  },
  {
   "cell_type": "code",
   "execution_count": 62,
   "metadata": {
    "scrolled": true
   },
   "outputs": [],
   "source": [
    "X_test_numeric = test_df.drop(columns=['city', 'year','re_an_max_air_temp_k','re_an_dew_point_temp_k','prec_amt_mm',\n",
    "                                    'ndvi_ne','ndvi_nw','ndvi_se','ndvi_sw','week_start_date','weekofyear'])\n",
    "test_df['year'] = test_df.year.astype('category')\n",
    "dummy_attributes = test_df[['city', 'year',\n",
    "                                    'ndvi_ne','ndvi_nw','ndvi_se','ndvi_sw']]\n",
    "# X_test_dummies = pd.get_dummies(dummy_attributes)\n",
    "X_test_dummies = dummy_attributes.reindex(columns = X_dummies.columns, fill_value=0)\n",
    "\n",
    "test_df_standardized = scaler.transform(X_test_numeric)\n",
    "test_df_np = np.concatenate((test_df_standardized,np.array(X_test_dummies)),axis=1)"
   ]
  },
  {
   "cell_type": "code",
   "execution_count": 63,
   "metadata": {},
   "outputs": [],
   "source": [
    "test_y_predict = lin_svr.predict(test_df_np)\n",
    "submission_df= test_df[[\"city\", \"year\",\"weekofyear\"]]\n",
    "submission_df[\"total_cases\"] = test_y_predict\n",
    "submission_df.to_csv(\"submission_aditya_2.csv\",index=False)"
   ]
  },
  {
   "cell_type": "code",
   "execution_count": null,
   "metadata": {},
   "outputs": [],
   "source": [
    "X_dummies = pd.get_dummies(dummy_attributes)"
   ]
  },
  {
   "cell_type": "markdown",
   "metadata": {},
   "source": [
    "### <font color='blue'> 7. Compare the Model Evaluation metric of SGD (Assignment 2), Linear SVR and SVR with Linear Kernel and state which model performed better along with reason why you consider so. </font>"
   ]
  },
  {
   "cell_type": "markdown",
   "metadata": {},
   "source": [
    "#####  I got better performance using SVR\n",
    "\n",
    "On SGD, The error is 18.14 on train and 17.38 on test dataset\n",
    "\n",
    "Using Linear SVR the error is 18.7 on train and 11.3 on test\n",
    "\n",
    "Using just SVR the error is 18.6 on train and on 11.2 test\n"
   ]
  },
  {
   "cell_type": "markdown",
   "metadata": {},
   "source": [
    "### <font color='green'> Assignment 4 </font>\n",
    "Use the merged data frame from Assignment 1,2  and 3 for this assignment\n",
    "\n",
    "This Assignment focuses on data preprocessing and model building.In this assignment you need to use Neural Network"
   ]
  },
  {
   "cell_type": "code",
   "execution_count": null,
   "metadata": {},
   "outputs": [],
   "source": []
  },
  {
   "cell_type": "markdown",
   "metadata": {},
   "source": [
    "##### 3. Optional: Build a Neural Network Multi-Layer Perceptron Regressor model (you can use sklearn neural network MLP Regressor)"
   ]
  },
  {
   "cell_type": "code",
   "execution_count": 16,
   "metadata": {},
   "outputs": [
    {
     "name": "stdout",
     "output_type": "stream",
     "text": [
      "Iteration 1, loss = 403.05630519\n",
      "Iteration 2, loss = 397.98059526\n",
      "Iteration 3, loss = 392.74906566\n",
      "Iteration 4, loss = 387.09478076\n",
      "Iteration 5, loss = 381.33700346\n",
      "Iteration 6, loss = 374.75768100\n",
      "Iteration 7, loss = 367.58189082\n",
      "Iteration 8, loss = 359.31214496\n",
      "Iteration 9, loss = 350.29217120\n",
      "Iteration 10, loss = 340.30709521\n",
      "Iteration 11, loss = 328.87750098\n",
      "Iteration 12, loss = 316.49537108\n",
      "Iteration 13, loss = 302.39200615\n",
      "Iteration 14, loss = 287.09826622\n",
      "Iteration 15, loss = 270.92295907\n",
      "Iteration 16, loss = 255.29466627\n",
      "Iteration 17, loss = 239.35916688\n",
      "Iteration 18, loss = 225.84249191\n",
      "Iteration 19, loss = 213.11786289\n",
      "Iteration 20, loss = 203.98149009\n",
      "Iteration 21, loss = 196.93210939\n",
      "Iteration 22, loss = 191.19055804\n",
      "Iteration 23, loss = 187.33216837\n",
      "Iteration 24, loss = 184.52119103\n",
      "Iteration 25, loss = 182.03095208\n",
      "Iteration 26, loss = 180.33000491\n",
      "Iteration 27, loss = 178.66274508\n",
      "Iteration 28, loss = 176.91114735\n",
      "Iteration 29, loss = 175.51298863\n",
      "Iteration 30, loss = 174.04006764\n",
      "Iteration 31, loss = 172.68931987\n",
      "Iteration 32, loss = 171.43975948\n",
      "Iteration 33, loss = 170.11911570\n",
      "Iteration 34, loss = 168.87160674\n",
      "Iteration 35, loss = 167.69101774\n",
      "Iteration 36, loss = 166.50606584\n",
      "Iteration 37, loss = 165.27009021\n",
      "Iteration 38, loss = 164.10407485\n",
      "Iteration 39, loss = 162.93948679\n",
      "Iteration 40, loss = 161.79478877\n",
      "Iteration 41, loss = 160.53753149\n",
      "Iteration 42, loss = 159.46965117\n",
      "Iteration 43, loss = 158.18946416\n",
      "Iteration 44, loss = 157.01155291\n",
      "Iteration 45, loss = 155.74947753\n",
      "Iteration 46, loss = 154.71850322\n",
      "Iteration 47, loss = 153.52194826\n",
      "Iteration 48, loss = 152.16475462\n",
      "Iteration 49, loss = 151.05140437\n",
      "Iteration 50, loss = 149.82710630\n",
      "Iteration 51, loss = 148.58902490\n",
      "Iteration 52, loss = 147.41545685\n",
      "Iteration 53, loss = 146.16617124\n",
      "Iteration 54, loss = 145.00723613\n",
      "Iteration 55, loss = 143.79349154\n",
      "Iteration 56, loss = 142.62016239\n",
      "Iteration 57, loss = 141.46276665\n",
      "Iteration 58, loss = 140.17894126\n",
      "Iteration 59, loss = 139.00967209\n",
      "Iteration 60, loss = 137.70931068\n",
      "Iteration 61, loss = 136.55345822\n",
      "Iteration 62, loss = 135.28368226\n",
      "Iteration 63, loss = 134.04896654\n",
      "Iteration 64, loss = 132.77319983\n",
      "Iteration 65, loss = 131.66686743\n",
      "Iteration 66, loss = 130.38536089\n",
      "Iteration 67, loss = 129.19576776\n",
      "Iteration 68, loss = 128.02688784\n",
      "Iteration 69, loss = 126.86795645\n",
      "Iteration 70, loss = 125.73558456\n",
      "Iteration 71, loss = 124.79116867\n",
      "Iteration 72, loss = 123.46903538\n",
      "Iteration 73, loss = 122.36685456\n",
      "Iteration 74, loss = 121.28325687\n",
      "Iteration 75, loss = 120.29021989\n",
      "Iteration 76, loss = 119.16688431\n",
      "Iteration 77, loss = 118.27015234\n",
      "Iteration 78, loss = 117.22293516\n",
      "Iteration 79, loss = 116.24238746\n",
      "Iteration 80, loss = 115.31377149\n",
      "Iteration 81, loss = 114.37689843\n",
      "Iteration 82, loss = 113.48811635\n",
      "Iteration 83, loss = 112.67136582\n",
      "Iteration 84, loss = 111.77257797\n",
      "Iteration 85, loss = 110.98382939\n",
      "Iteration 86, loss = 110.16808681\n",
      "Iteration 87, loss = 109.45500455\n",
      "Iteration 88, loss = 108.67111894\n",
      "Iteration 89, loss = 107.92663391\n",
      "Iteration 90, loss = 107.25585380\n",
      "Iteration 91, loss = 106.52948296\n",
      "Iteration 92, loss = 105.87705083\n",
      "Iteration 93, loss = 105.20203472\n",
      "Iteration 94, loss = 104.58708802\n",
      "Iteration 95, loss = 103.94301455\n",
      "Iteration 96, loss = 103.36870376\n",
      "Iteration 97, loss = 102.77443292\n",
      "Iteration 98, loss = 102.23022832\n",
      "Iteration 99, loss = 101.58169187\n",
      "Iteration 100, loss = 101.11002892\n",
      "Iteration 101, loss = 100.56311048\n",
      "Iteration 102, loss = 100.11347063\n",
      "Iteration 103, loss = 99.61569771\n",
      "Iteration 104, loss = 99.13298586\n",
      "Iteration 105, loss = 98.70413707\n",
      "Iteration 106, loss = 98.20180106\n",
      "Iteration 107, loss = 97.80464306\n",
      "Iteration 108, loss = 97.35651419\n",
      "Iteration 109, loss = 96.88099210\n",
      "Iteration 110, loss = 96.48690751\n",
      "Iteration 111, loss = 96.02407989\n",
      "Iteration 112, loss = 95.67556288\n",
      "Iteration 113, loss = 95.26990075\n",
      "Iteration 114, loss = 94.86982350\n",
      "Iteration 115, loss = 94.47841293\n",
      "Iteration 116, loss = 94.18341876\n",
      "Iteration 117, loss = 93.81287521\n",
      "Iteration 118, loss = 93.39971018\n",
      "Iteration 119, loss = 93.08996056\n",
      "Iteration 120, loss = 92.72977060\n",
      "Iteration 121, loss = 92.43738138\n",
      "Iteration 122, loss = 92.15686581\n",
      "Iteration 123, loss = 91.91068423\n",
      "Iteration 124, loss = 91.57418821\n",
      "Iteration 125, loss = 91.19311240\n",
      "Iteration 126, loss = 90.90995866\n",
      "Iteration 127, loss = 90.63620690\n",
      "Iteration 128, loss = 90.36335060\n",
      "Iteration 129, loss = 90.04673933\n",
      "Iteration 130, loss = 89.78890176\n",
      "Iteration 131, loss = 89.50409001\n",
      "Iteration 132, loss = 89.32438557\n",
      "Iteration 133, loss = 89.00470865\n",
      "Iteration 134, loss = 88.72550481\n",
      "Iteration 135, loss = 88.49009204\n",
      "Iteration 136, loss = 88.32840935\n",
      "Iteration 137, loss = 88.07644239\n",
      "Iteration 138, loss = 87.77364614\n",
      "Iteration 139, loss = 87.54295827\n",
      "Iteration 140, loss = 87.25344614\n",
      "Iteration 141, loss = 87.07590510\n",
      "Iteration 142, loss = 86.82868499\n",
      "Iteration 143, loss = 86.66513121\n",
      "Iteration 144, loss = 86.63487602\n",
      "Iteration 145, loss = 86.17504389\n",
      "Iteration 146, loss = 86.04411464\n",
      "Iteration 147, loss = 85.76944346\n",
      "Iteration 148, loss = 85.54550086\n",
      "Iteration 149, loss = 85.35702386\n",
      "Iteration 150, loss = 85.15451311\n"
     ]
    },
    {
     "data": {
      "text/plain": [
       "MLPRegressor(activation='relu', alpha=0.0001, batch_size='auto', beta_1=0.9,\n",
       "             beta_2=0.999, early_stopping=False, epsilon=1e-08,\n",
       "             hidden_layer_sizes=(40, 10), learning_rate='constant',\n",
       "             learning_rate_init=0.001, max_iter=150, momentum=0.9,\n",
       "             n_iter_no_change=10, nesterovs_momentum=True, power_t=0.5,\n",
       "             random_state=None, shuffle=True, solver='adam', tol=0.0001,\n",
       "             validation_fraction=0.1, verbose=True, warm_start=False)"
      ]
     },
     "execution_count": 16,
     "metadata": {},
     "output_type": "execute_result"
    }
   ],
   "source": [
    "assign_4 = pd.read_csv(\"Assignment_3_data.csv\")\n",
    "\n",
    "X_numeric = assign_4.drop(columns=['city', 'year','total_cases',\n",
    "                                    'ndvi_ne','ndvi_nw','ndvi_se','ndvi_sw'])\n",
    "assign_4['year'] = assign_4.year.astype('category')\n",
    "dummy_attributes = assign_4[['city', 'year',\n",
    "                                    'ndvi_ne','ndvi_nw','ndvi_se','ndvi_sw']]\n",
    "X_dummies = pd.get_dummies(dummy_attributes)\n",
    "X_data = pd.concat([X_numeric,X_dummies ],axis=1)\n",
    "\n",
    "y_data = assign_4['total_cases']\n",
    "X_train, X_test, y_train, y_test = train_test_split(X_data, y_data, test_size=0.20)\n",
    "\n",
    "scaler = StandardScaler()\n",
    "standardized_numeric_data = scaler.fit_transform(X_train[X_numeric.columns])\n",
    "X_train_np = np.concatenate((standardized_numeric_data,np.array(X_train[X_dummies.columns])),axis=1)\n",
    "standardized_numeric_data_test = scaler.transform(X_test[X_numeric.columns])\n",
    "X_test_np = np.concatenate((standardized_numeric_data_test,np.array(X_test[X_dummies.columns])),axis=1)\n",
    "\n",
    "from sklearn.neural_network import MLPRegressor\n",
    "\n",
    "mlp_reg = MLPRegressor(hidden_layer_sizes=(40,10), max_iter= 150, verbose=True)\n",
    "mlp_reg.fit(X_train_np, y_train)"
   ]
  },
  {
   "cell_type": "code",
   "execution_count": 17,
   "metadata": {},
   "outputs": [
    {
     "name": "stdout",
     "output_type": "stream",
     "text": [
      "The training error of the model is  13.03532167010069\n",
      "The testing error of the model is  14.809773267217437\n"
     ]
    }
   ],
   "source": [
    "y_train_predict = mlp_reg.predict(X_train_np)\n",
    "y_test_predict = mlp_reg.predict(X_test_np)\n",
    "train_errors= sqrt(mean_squared_error(y_train, y_train_predict))\n",
    "test_errors = sqrt(mean_squared_error(y_test, y_test_predict))\n",
    "print(\"The training error of the model is \", train_errors)\n",
    "print(\"The testing error of the model is \", test_errors)"
   ]
  },
  {
   "cell_type": "markdown",
   "metadata": {},
   "source": [
    "##### Optional: Evaluate the model and compare it with the previous three assignments"
   ]
  },
  {
   "cell_type": "markdown",
   "metadata": {},
   "source": [
    "I got better performance using SVR\n",
    "On SGD, The error is 18.14 on train and 17.38 on test dataset\n",
    "\n",
    "Using Linear SVR the error is 18.7 on train and 11.3 on test\n",
    "\n",
    "Using just SVR the error is 18.6 on train and on 11.2 test\n",
    "\n",
    "The error using MLP regressor with 40,10 layers is 11.35 on test data and 13.73 on train data"
   ]
  },
  {
   "cell_type": "markdown",
   "metadata": {},
   "source": [
    "##### 1. Load the data (both features and label data set as before)\n",
    "##### 2. Preprocess the data - briefly comment if any special preprocessing is adopted to suit Neural Network\n",
    "##### 3. Add a new column called 'above_average' with value 1 or 0. 1 if the total_cases > median of total_cases"
   ]
  },
  {
   "cell_type": "code",
   "execution_count": 18,
   "metadata": {},
   "outputs": [],
   "source": [
    "assign_4 = pd.read_csv(\"Assignment_3_data.csv\")\n",
    "\n",
    "assign_4.total_cases[assign_4.total_cases <= 11] = 0 #converting the dependent varibale to categorical\n",
    "assign_4.total_cases[assign_4.total_cases > 11] = 1 #by creating threshold of median\n",
    "\n",
    "assign_4 = assign_4.rename(columns={'total_cases': 'above_average'}) #renaming the column\n",
    "\n",
    "\n",
    "X_numeric = assign_4.drop(columns=['city', 'year','above_average',\n",
    "                                    'ndvi_ne','ndvi_nw','ndvi_se','ndvi_sw'])\n",
    "assign_4['year'] = assign_4.year.astype('category')\n",
    "dummy_attributes = assign_4[['city', 'year',\n",
    "                                    'ndvi_ne','ndvi_nw','ndvi_se','ndvi_sw']]\n",
    "X_dummies = pd.get_dummies(dummy_attributes)\n",
    "X_data = pd.concat([X_numeric,X_dummies ],axis=1)\n",
    "y_data = assign_4['above_average']\n",
    "X_train, X_test, y_train, y_test = train_test_split(X_data, y_data, test_size=0.20)\n",
    "scaler = StandardScaler()\n",
    "standardized_numeric_data = scaler.fit_transform(X_train[X_numeric.columns])\n",
    "X_train_np = np.concatenate((standardized_numeric_data,np.array(X_train[X_dummies.columns])),axis=1)\n",
    "standardized_numeric_data_test = scaler.transform(X_test[X_numeric.columns])\n",
    "X_test_np = np.concatenate((standardized_numeric_data_test,np.array(X_test[X_dummies.columns])),axis=1)"
   ]
  },
  {
   "cell_type": "markdown",
   "metadata": {},
   "source": [
    "##### 4. Build a Neural Network MLP Classifier on the 'above_average' column with 80/20 train/test split"
   ]
  },
  {
   "cell_type": "code",
   "execution_count": 19,
   "metadata": {},
   "outputs": [
    {
     "name": "stdout",
     "output_type": "stream",
     "text": [
      "Accuracy of model on train dataset 0.8855368234250222\n",
      "Accuracy of model on test dataset 0.7624113475177305\n"
     ]
    }
   ],
   "source": [
    "mlp_clf = MLPClassifier(hidden_layer_sizes=(15,10),max_iter=100,momentum=0.7,activation=\"relu\") \n",
    "\n",
    "#building a 15,10 layer network with 100 iterations and 0.0001 learning rate\n",
    "mlp_clf.fit(X_train_np, y_train) #Training the model\n",
    "test_y_pred = mlp_clf.predict(X_test_np) #Predicting on test dataset\n",
    "train_y_pred = mlp_clf.predict(X_train_np)\n",
    "\n",
    "print(\"Accuracy of model on train dataset\",accuracy_score(y_train, train_y_pred))\n",
    "print(\"Accuracy of model on test dataset\",accuracy_score(y_test, test_y_pred))"
   ]
  },
  {
   "cell_type": "markdown",
   "metadata": {},
   "source": [
    "from cf_matrix import make_confusion_matrix\n",
    "#I found this interesting way of visualizing confusion matrix from \n",
    "https://github.com/DTrimarchi10/confusion_matrix"
   ]
  },
  {
   "cell_type": "code",
   "execution_count": 20,
   "metadata": {},
   "outputs": [],
   "source": [
    "import numpy as np\n",
    "import matplotlib.pyplot as plt\n",
    "import seaborn as sns\n",
    "\n",
    "def make_confusion_matrix(cf,\n",
    "                          group_names=None,\n",
    "                          categories='auto',\n",
    "                          count=True,\n",
    "                          percent=True,\n",
    "                          cbar=True,\n",
    "                          xyticks=True,\n",
    "                          xyplotlabels=True,\n",
    "                          sum_stats=True,\n",
    "                          figsize=None,\n",
    "                          cmap='Blues',\n",
    "                          title=None):\n",
    "\n",
    "\n",
    "    # CODE TO GENERATE TEXT INSIDE EACH SQUARE\n",
    "    blanks = ['' for i in range(cf.size)]\n",
    "\n",
    "    if group_names and len(group_names)==cf.size:\n",
    "        group_labels = [\"{}\\n\".format(value) for value in group_names]\n",
    "    else:\n",
    "        group_labels = blanks\n",
    "\n",
    "    if count:\n",
    "        group_counts = [\"{0:0.0f}\\n\".format(value) for value in cf.flatten()]\n",
    "    else:\n",
    "        group_counts = blanks\n",
    "\n",
    "    if percent:\n",
    "        group_percentages = [\"{0:.2%}\".format(value) for value in cf.flatten()/np.sum(cf)]\n",
    "    else:\n",
    "        group_percentages = blanks\n",
    "\n",
    "    box_labels = [f\"{v1}{v2}{v3}\".strip() for v1, v2, v3 in zip(group_labels,group_counts,group_percentages)]\n",
    "    box_labels = np.asarray(box_labels).reshape(cf.shape[0],cf.shape[1])\n",
    "\n",
    "\n",
    "    # CODE TO GENERATE SUMMARY STATISTICS & TEXT FOR SUMMARY STATS\n",
    "    if sum_stats:\n",
    "        #Accuracy is sum of diagonal divided by total observations\n",
    "        accuracy  = np.trace(cf) / float(np.sum(cf))\n",
    "\n",
    "        #if it is a binary confusion matrix, show some more stats\n",
    "        if len(cf)==2:\n",
    "            #Metrics for Binary Confusion Matrices\n",
    "            precision = cf[1,1] / sum(cf[:,1])\n",
    "            recall    = cf[1,1] / sum(cf[1,:])\n",
    "            f1_score  = 2*precision*recall / (precision + recall)\n",
    "            stats_text = \"\\n\\nAccuracy={:0.3f}\\nPrecision={:0.3f}\\nRecall={:0.3f}\\nF1 Score={:0.3f}\".format(\n",
    "                accuracy,precision,recall,f1_score)\n",
    "        else:\n",
    "            stats_text = \"\\n\\nAccuracy={:0.3f}\".format(accuracy)\n",
    "    else:\n",
    "        stats_text = \"\"\n",
    "\n",
    "\n",
    "    # SET FIGURE PARAMETERS ACCORDING TO OTHER ARGUMENTS\n",
    "    if figsize==None:\n",
    "        #Get default figure size if not set\n",
    "        figsize = plt.rcParams.get('figure.figsize')\n",
    "\n",
    "    if xyticks==False:\n",
    "        #Do not show categories if xyticks is False\n",
    "        categories=False\n",
    "\n",
    "\n",
    "    # MAKE THE HEATMAP VISUALIZATION\n",
    "    plt.figure(figsize=figsize)\n",
    "    sns.heatmap(cf,annot=box_labels,fmt=\"\",cmap=cmap,cbar=cbar,xticklabels=categories,yticklabels=categories)\n",
    "\n",
    "    if xyplotlabels:\n",
    "        plt.ylabel('True label')\n",
    "        plt.xlabel('Predicted label' + stats_text)\n",
    "    else:\n",
    "        plt.xlabel(stats_text)\n",
    "    \n",
    "    if title:\n",
    "        plt.title(title)"
   ]
  },
  {
   "cell_type": "markdown",
   "metadata": {},
   "source": [
    "##### 7. Explain the meaning of Precision, Recall and F1-Score and why these are used to evaluate Classification models (instead of using Accuracy as a metric). Evaluate the classifier using Precision, Recall and F1 score values\n",
    "\n",
    "As the dataset is balanced we can rely on the accuracy as metric for evaluation.\n",
    "\n",
    "Along with that I believe False Negative score(Recall) is important. Because saying a city as having less number of cases is more dangerous than predicting a city as having more number of cases\n",
    "\n",
    "Cause I think if the model predicts correctly about the city having high number of cases then the medical team can be prepare well. But if the city having high number of cases is predicted by model as less than average then the mdical team might not take that city seriously and hence the  people in that city might affect badly"
   ]
  },
  {
   "cell_type": "code",
   "execution_count": 21,
   "metadata": {},
   "outputs": [
    {
     "data": {
      "text/plain": [
       "<Figure size 720x504 with 0 Axes>"
      ]
     },
     "metadata": {},
     "output_type": "display_data"
    },
    {
     "data": {
      "image/png": "[encoded data removed]",
      "text/plain": [
       "<Figure size 432x288 with 2 Axes>"
      ]
     },
     "metadata": {},
     "output_type": "display_data"
    },
    {
     "name": "stdout",
     "output_type": "stream",
     "text": [
      "Accuracy of model on Test dataset 0.7624113475177305\n"
     ]
    }
   ],
   "source": [
    "cm = confusion_matrix(y_test, test_y_pred)\n",
    "\n",
    "plt.figure(figsize=(10,7))\n",
    "sns.set(font_scale=1.4) # for label size\n",
    "labels = ['True Neg','False Pos','False Neg','True Pos']\n",
    "categories = ['Zero', 'One']\n",
    "make_confusion_matrix(cm, \n",
    "                      group_names=labels,\n",
    "                      categories=categories, \n",
    "                      cmap='binary')\n",
    "b, t = plt.ylim() # discover the values for bottom and top\n",
    "b += 0.5 # Add 0.5 to the bottom\n",
    "t -= 0.5 # Subtract 0.5 from the top\n",
    "plt.ylim(b, t) \n",
    "plt.show()\n",
    "print(\"Accuracy of model on Test dataset\",accuracy_score(y_test, test_y_pred))"
   ]
  },
  {
   "cell_type": "markdown",
   "metadata": {},
   "source": [
    "### <font color='green'> I had a lot of confusion about precision and Recall hence I have created notes </font>"
   ]
  },
  {
   "cell_type": "markdown",
   "metadata": {},
   "source": [
    "## Case 1:"
   ]
  },
  {
   "cell_type": "markdown",
   "metadata": {},
   "source": [
    "\n",
    "Let's understand the metrics in terms of business context\n",
    "\n",
    "Suppose you are owner of ferrari company and you are manufacturing limited edition super car.\n",
    "\n",
    "The head of marketing department has 10,000 customer details who they think to advertise..\n",
    "\n",
    "You have created a model which predicts whether a customer will buy the car or not. According to the model you will advertise to only those which the model tells as buyers\n",
    "\n",
    "So in this case your model can do two mistakes\n",
    "\n",
    "1) Precision: Predicts non-buyer as buyer this is false positive (falsely predicting that the customer will buy)\n",
    "\n",
    "2) Recall : Predicts buyer as non-buyer this is false negative (falsely predicting that the customer will not buy)\n",
    "\n",
    "Now which metric do you think is important?\n",
    "For this case,If model predicts a non-buyer as buyer then company will loose small amount by advertising to non-buyer and the amount they spent on advertising for that person will be low (at most 50$)..this is precision (falsely predicted as positive)..\n",
    "\n",
    "But on the other side of coin, If model predicts a buyer as non-buyer then the company is not going to advertise the car to that buyer and at the end the company is going to loose that customer who had the potential to buy that car. This is recall (falsely predicted as negative)..\n",
    "\n",
    "So in this case the recall is the metric to optimize.."
   ]
  },
  {
   "cell_type": "markdown",
   "metadata": {},
   "source": [
    "## Case 2:"
   ]
  },
  {
   "cell_type": "markdown",
   "metadata": {},
   "source": [
    "\n",
    "Let's put you in another shoe..\n",
    "\n",
    "You are manager of a branch and there are 4000 loan applications.\n",
    "\n",
    "You have created a model which predicts whether an applicant can be granted loan or not..\n",
    "\n",
    "So in this case your model can do two mistakes\n",
    "\n",
    "1) Precision: Predicts non-eligible applicants as eligible this is false positive (falsely predicting that the applicant can be granted loan)\n",
    "\n",
    "2) Recall: Predicts eligible applicants as non-eligible this is false negative (falsely predicting that the loan application should be rejectet.)"
   ]
  },
  {
   "cell_type": "markdown",
   "metadata": {},
   "source": [
    "## F1 Score"
   ]
  },
  {
   "cell_type": "markdown",
   "metadata": {},
   "source": [
    "F1 Score is the weighted average of Precision and Recall. Therefore, this score takes both false positives and false negatives into account. Intuitively it is not as easy to understand as accuracy, but F1 is usually more useful than accuracy, especially if you have an uneven class distribution. Accuracy works best if false positives and false negatives have similar cost. If the cost of false positives and false negatives are very different, it’s better to look at both Precision and Recall."
   ]
  },
  {
   "cell_type": "markdown",
   "metadata": {},
   "source": [
    "## Test data prediction"
   ]
  },
  {
   "cell_type": "code",
   "execution_count": 22,
   "metadata": {},
   "outputs": [],
   "source": [
    "test_df = pd.read_csv(\"C:/Users/mohad/Documents/USF/DSP/assignment_2/dengue_features_test.csv\")\n",
    "test_df.columns = test_df.columns.str.replace(r\"reanalysis\", \"re_an\")\n",
    "test_df.columns = test_df.columns.str.replace(r\"humidity\", \"hd\")\n",
    "test_df.columns = test_df.columns.str.replace(r\"precipitation\",\"prec\")\n",
    "test_df = test_df.fillna(method='ffill')\n",
    "\n",
    "veg_features = ['ndvi_ne','ndvi_nw','ndvi_se','ndvi_sw']\n",
    "for i in veg_features:\n",
    "    test_df[i][test_df[i] <= 0.25] = 0\n",
    "    test_df[i][test_df[i] > 0.25] = 1\n",
    "    test_df[i] = test_df[i].astype('category')"
   ]
  },
  {
   "cell_type": "code",
   "execution_count": 23,
   "metadata": {},
   "outputs": [],
   "source": [
    "X_test_numeric = test_df.drop(columns=['city', 'year','re_an_max_air_temp_k','re_an_dew_point_temp_k','prec_amt_mm',\n",
    "                                    'ndvi_ne','ndvi_nw','ndvi_se','ndvi_sw','week_start_date','weekofyear'])\n",
    "test_df['year'] = test_df.year.astype('category')\n",
    "dummy_attributes = test_df[['city', 'year',\n",
    "                                    'ndvi_ne','ndvi_nw','ndvi_se','ndvi_sw']]\n",
    "# X_test_dummies = pd.get_dummies(dummy_attributes)\n",
    "X_test_dummies = dummy_attributes.reindex(columns = X_dummies.columns, fill_value=0)\n",
    "\n",
    "test_df_standardized = scaler.transform(X_test_numeric)\n",
    "test_df_np = np.concatenate((test_df_standardized,np.array(X_test_dummies)),axis=1)"
   ]
  },
  {
   "cell_type": "code",
   "execution_count": 29,
   "metadata": {},
   "outputs": [],
   "source": [
    "test_y_predict = mlp_reg.predict(test_df_np)\n",
    "submission_df= test_df[[\"city\", \"year\",\"weekofyear\"]]\n",
    "submission_df[\"total_cases\"] = test_y_predict\n",
    "submission_df.to_csv(\"submission_aditya_4.csv\",index=False)"
   ]
  },
  {
   "cell_type": "code",
   "execution_count": null,
   "metadata": {},
   "outputs": [],
   "source": []
  },
  {
   "cell_type": "code",
   "execution_count": null,
   "metadata": {},
   "outputs": [],
   "source": []
  }
 ],
 "metadata": {
  "kernelspec": {
   "display_name": "Python 3",
   "language": "python",
   "name": "python3"
  },
  "language_info": {
   "codemirror_mode": {
    "name": "ipython",
    "version": 3
   },
   "file_extension": ".py",
   "mimetype": "text/x-python",
   "name": "python",
   "nbconvert_exporter": "python",
   "pygments_lexer": "ipython3",
   "version": "3.7.6"
  }
 },
 "nbformat": 4,
 "nbformat_minor": 2
}
